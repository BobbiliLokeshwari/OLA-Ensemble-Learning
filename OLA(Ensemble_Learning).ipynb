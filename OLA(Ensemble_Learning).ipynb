{
  "nbformat": 4,
  "nbformat_minor": 0,
  "metadata": {
    "colab": {
      "provenance": []
    },
    "kernelspec": {
      "name": "python3",
      "display_name": "Python 3"
    },
    "language_info": {
      "name": "python"
    }
  },
  "cells": [
    {
      "cell_type": "markdown",
      "source": [
        "# **OLA - Ensemble Learning**"
      ],
      "metadata": {
        "id": "cyxZVYsMyTuw"
      }
    },
    {
      "cell_type": "code",
      "source": [
        "import numpy as np\n",
        "import pandas as pd\n",
        "import matplotlib.pyplot as plt\n",
        "import seaborn as sns\n",
        "import warnings\n",
        "# Filter out ImportWarning\n",
        "warnings.filterwarnings(\"ignore\", category=ImportWarning)"
      ],
      "metadata": {
        "id": "qiL_k2D6hLZA"
      },
      "execution_count": 103,
      "outputs": []
    },
    {
      "cell_type": "markdown",
      "source": [
        "**Loading Dataset**"
      ],
      "metadata": {
        "id": "cpTChbnzhbEi"
      }
    },
    {
      "cell_type": "code",
      "source": [
        "df=pd.read_csv('ola_driver_scaler.csv')\n",
        "df.head()"
      ],
      "metadata": {
        "colab": {
          "base_uri": "https://localhost:8080/",
          "height": 261
        },
        "id": "dTMtcWJzhTpk",
        "outputId": "f7235f72-1316-43aa-cc9b-0868f2921e6e"
      },
      "execution_count": 2,
      "outputs": [
        {
          "output_type": "execute_result",
          "data": {
            "text/plain": [
              "   Unnamed: 0    MMM-YY  Driver_ID   Age  Gender City  Education_Level  \\\n",
              "0           0  01/01/19          1  28.0     0.0  C23                2   \n",
              "1           1  02/01/19          1  28.0     0.0  C23                2   \n",
              "2           2  03/01/19          1  28.0     0.0  C23                2   \n",
              "3           3  11/01/20          2  31.0     0.0   C7                2   \n",
              "4           4  12/01/20          2  31.0     0.0   C7                2   \n",
              "\n",
              "   Income Dateofjoining LastWorkingDate  Joining Designation  Grade  \\\n",
              "0   57387      24/12/18             NaN                    1      1   \n",
              "1   57387      24/12/18             NaN                    1      1   \n",
              "2   57387      24/12/18        03/11/19                    1      1   \n",
              "3   67016      11/06/20             NaN                    2      2   \n",
              "4   67016      11/06/20             NaN                    2      2   \n",
              "\n",
              "   Total Business Value  Quarterly Rating  \n",
              "0               2381060                 2  \n",
              "1               -665480                 2  \n",
              "2                     0                 2  \n",
              "3                     0                 1  \n",
              "4                     0                 1  "
            ],
            "text/html": [
              "\n",
              "  <div id=\"df-110c5640-8b0f-4855-b946-97a3ed60f8ec\" class=\"colab-df-container\">\n",
              "    <div>\n",
              "<style scoped>\n",
              "    .dataframe tbody tr th:only-of-type {\n",
              "        vertical-align: middle;\n",
              "    }\n",
              "\n",
              "    .dataframe tbody tr th {\n",
              "        vertical-align: top;\n",
              "    }\n",
              "\n",
              "    .dataframe thead th {\n",
              "        text-align: right;\n",
              "    }\n",
              "</style>\n",
              "<table border=\"1\" class=\"dataframe\">\n",
              "  <thead>\n",
              "    <tr style=\"text-align: right;\">\n",
              "      <th></th>\n",
              "      <th>Unnamed: 0</th>\n",
              "      <th>MMM-YY</th>\n",
              "      <th>Driver_ID</th>\n",
              "      <th>Age</th>\n",
              "      <th>Gender</th>\n",
              "      <th>City</th>\n",
              "      <th>Education_Level</th>\n",
              "      <th>Income</th>\n",
              "      <th>Dateofjoining</th>\n",
              "      <th>LastWorkingDate</th>\n",
              "      <th>Joining Designation</th>\n",
              "      <th>Grade</th>\n",
              "      <th>Total Business Value</th>\n",
              "      <th>Quarterly Rating</th>\n",
              "    </tr>\n",
              "  </thead>\n",
              "  <tbody>\n",
              "    <tr>\n",
              "      <th>0</th>\n",
              "      <td>0</td>\n",
              "      <td>01/01/19</td>\n",
              "      <td>1</td>\n",
              "      <td>28.0</td>\n",
              "      <td>0.0</td>\n",
              "      <td>C23</td>\n",
              "      <td>2</td>\n",
              "      <td>57387</td>\n",
              "      <td>24/12/18</td>\n",
              "      <td>NaN</td>\n",
              "      <td>1</td>\n",
              "      <td>1</td>\n",
              "      <td>2381060</td>\n",
              "      <td>2</td>\n",
              "    </tr>\n",
              "    <tr>\n",
              "      <th>1</th>\n",
              "      <td>1</td>\n",
              "      <td>02/01/19</td>\n",
              "      <td>1</td>\n",
              "      <td>28.0</td>\n",
              "      <td>0.0</td>\n",
              "      <td>C23</td>\n",
              "      <td>2</td>\n",
              "      <td>57387</td>\n",
              "      <td>24/12/18</td>\n",
              "      <td>NaN</td>\n",
              "      <td>1</td>\n",
              "      <td>1</td>\n",
              "      <td>-665480</td>\n",
              "      <td>2</td>\n",
              "    </tr>\n",
              "    <tr>\n",
              "      <th>2</th>\n",
              "      <td>2</td>\n",
              "      <td>03/01/19</td>\n",
              "      <td>1</td>\n",
              "      <td>28.0</td>\n",
              "      <td>0.0</td>\n",
              "      <td>C23</td>\n",
              "      <td>2</td>\n",
              "      <td>57387</td>\n",
              "      <td>24/12/18</td>\n",
              "      <td>03/11/19</td>\n",
              "      <td>1</td>\n",
              "      <td>1</td>\n",
              "      <td>0</td>\n",
              "      <td>2</td>\n",
              "    </tr>\n",
              "    <tr>\n",
              "      <th>3</th>\n",
              "      <td>3</td>\n",
              "      <td>11/01/20</td>\n",
              "      <td>2</td>\n",
              "      <td>31.0</td>\n",
              "      <td>0.0</td>\n",
              "      <td>C7</td>\n",
              "      <td>2</td>\n",
              "      <td>67016</td>\n",
              "      <td>11/06/20</td>\n",
              "      <td>NaN</td>\n",
              "      <td>2</td>\n",
              "      <td>2</td>\n",
              "      <td>0</td>\n",
              "      <td>1</td>\n",
              "    </tr>\n",
              "    <tr>\n",
              "      <th>4</th>\n",
              "      <td>4</td>\n",
              "      <td>12/01/20</td>\n",
              "      <td>2</td>\n",
              "      <td>31.0</td>\n",
              "      <td>0.0</td>\n",
              "      <td>C7</td>\n",
              "      <td>2</td>\n",
              "      <td>67016</td>\n",
              "      <td>11/06/20</td>\n",
              "      <td>NaN</td>\n",
              "      <td>2</td>\n",
              "      <td>2</td>\n",
              "      <td>0</td>\n",
              "      <td>1</td>\n",
              "    </tr>\n",
              "  </tbody>\n",
              "</table>\n",
              "</div>\n",
              "    <div class=\"colab-df-buttons\">\n",
              "\n",
              "  <div class=\"colab-df-container\">\n",
              "    <button class=\"colab-df-convert\" onclick=\"convertToInteractive('df-110c5640-8b0f-4855-b946-97a3ed60f8ec')\"\n",
              "            title=\"Convert this dataframe to an interactive table.\"\n",
              "            style=\"display:none;\">\n",
              "\n",
              "  <svg xmlns=\"http://www.w3.org/2000/svg\" height=\"24px\" viewBox=\"0 -960 960 960\">\n",
              "    <path d=\"M120-120v-720h720v720H120Zm60-500h600v-160H180v160Zm220 220h160v-160H400v160Zm0 220h160v-160H400v160ZM180-400h160v-160H180v160Zm440 0h160v-160H620v160ZM180-180h160v-160H180v160Zm440 0h160v-160H620v160Z\"/>\n",
              "  </svg>\n",
              "    </button>\n",
              "\n",
              "  <style>\n",
              "    .colab-df-container {\n",
              "      display:flex;\n",
              "      gap: 12px;\n",
              "    }\n",
              "\n",
              "    .colab-df-convert {\n",
              "      background-color: #E8F0FE;\n",
              "      border: none;\n",
              "      border-radius: 50%;\n",
              "      cursor: pointer;\n",
              "      display: none;\n",
              "      fill: #1967D2;\n",
              "      height: 32px;\n",
              "      padding: 0 0 0 0;\n",
              "      width: 32px;\n",
              "    }\n",
              "\n",
              "    .colab-df-convert:hover {\n",
              "      background-color: #E2EBFA;\n",
              "      box-shadow: 0px 1px 2px rgba(60, 64, 67, 0.3), 0px 1px 3px 1px rgba(60, 64, 67, 0.15);\n",
              "      fill: #174EA6;\n",
              "    }\n",
              "\n",
              "    .colab-df-buttons div {\n",
              "      margin-bottom: 4px;\n",
              "    }\n",
              "\n",
              "    [theme=dark] .colab-df-convert {\n",
              "      background-color: #3B4455;\n",
              "      fill: #D2E3FC;\n",
              "    }\n",
              "\n",
              "    [theme=dark] .colab-df-convert:hover {\n",
              "      background-color: #434B5C;\n",
              "      box-shadow: 0px 1px 3px 1px rgba(0, 0, 0, 0.15);\n",
              "      filter: drop-shadow(0px 1px 2px rgba(0, 0, 0, 0.3));\n",
              "      fill: #FFFFFF;\n",
              "    }\n",
              "  </style>\n",
              "\n",
              "    <script>\n",
              "      const buttonEl =\n",
              "        document.querySelector('#df-110c5640-8b0f-4855-b946-97a3ed60f8ec button.colab-df-convert');\n",
              "      buttonEl.style.display =\n",
              "        google.colab.kernel.accessAllowed ? 'block' : 'none';\n",
              "\n",
              "      async function convertToInteractive(key) {\n",
              "        const element = document.querySelector('#df-110c5640-8b0f-4855-b946-97a3ed60f8ec');\n",
              "        const dataTable =\n",
              "          await google.colab.kernel.invokeFunction('convertToInteractive',\n",
              "                                                    [key], {});\n",
              "        if (!dataTable) return;\n",
              "\n",
              "        const docLinkHtml = 'Like what you see? Visit the ' +\n",
              "          '<a target=\"_blank\" href=https://colab.research.google.com/notebooks/data_table.ipynb>data table notebook</a>'\n",
              "          + ' to learn more about interactive tables.';\n",
              "        element.innerHTML = '';\n",
              "        dataTable['output_type'] = 'display_data';\n",
              "        await google.colab.output.renderOutput(dataTable, element);\n",
              "        const docLink = document.createElement('div');\n",
              "        docLink.innerHTML = docLinkHtml;\n",
              "        element.appendChild(docLink);\n",
              "      }\n",
              "    </script>\n",
              "  </div>\n",
              "\n",
              "\n",
              "<div id=\"df-67a01870-e412-4a4d-9c1a-b1952ee411bb\">\n",
              "  <button class=\"colab-df-quickchart\" onclick=\"quickchart('df-67a01870-e412-4a4d-9c1a-b1952ee411bb')\"\n",
              "            title=\"Suggest charts\"\n",
              "            style=\"display:none;\">\n",
              "\n",
              "<svg xmlns=\"http://www.w3.org/2000/svg\" height=\"24px\"viewBox=\"0 0 24 24\"\n",
              "     width=\"24px\">\n",
              "    <g>\n",
              "        <path d=\"M19 3H5c-1.1 0-2 .9-2 2v14c0 1.1.9 2 2 2h14c1.1 0 2-.9 2-2V5c0-1.1-.9-2-2-2zM9 17H7v-7h2v7zm4 0h-2V7h2v10zm4 0h-2v-4h2v4z\"/>\n",
              "    </g>\n",
              "</svg>\n",
              "  </button>\n",
              "\n",
              "<style>\n",
              "  .colab-df-quickchart {\n",
              "      --bg-color: #E8F0FE;\n",
              "      --fill-color: #1967D2;\n",
              "      --hover-bg-color: #E2EBFA;\n",
              "      --hover-fill-color: #174EA6;\n",
              "      --disabled-fill-color: #AAA;\n",
              "      --disabled-bg-color: #DDD;\n",
              "  }\n",
              "\n",
              "  [theme=dark] .colab-df-quickchart {\n",
              "      --bg-color: #3B4455;\n",
              "      --fill-color: #D2E3FC;\n",
              "      --hover-bg-color: #434B5C;\n",
              "      --hover-fill-color: #FFFFFF;\n",
              "      --disabled-bg-color: #3B4455;\n",
              "      --disabled-fill-color: #666;\n",
              "  }\n",
              "\n",
              "  .colab-df-quickchart {\n",
              "    background-color: var(--bg-color);\n",
              "    border: none;\n",
              "    border-radius: 50%;\n",
              "    cursor: pointer;\n",
              "    display: none;\n",
              "    fill: var(--fill-color);\n",
              "    height: 32px;\n",
              "    padding: 0;\n",
              "    width: 32px;\n",
              "  }\n",
              "\n",
              "  .colab-df-quickchart:hover {\n",
              "    background-color: var(--hover-bg-color);\n",
              "    box-shadow: 0 1px 2px rgba(60, 64, 67, 0.3), 0 1px 3px 1px rgba(60, 64, 67, 0.15);\n",
              "    fill: var(--button-hover-fill-color);\n",
              "  }\n",
              "\n",
              "  .colab-df-quickchart-complete:disabled,\n",
              "  .colab-df-quickchart-complete:disabled:hover {\n",
              "    background-color: var(--disabled-bg-color);\n",
              "    fill: var(--disabled-fill-color);\n",
              "    box-shadow: none;\n",
              "  }\n",
              "\n",
              "  .colab-df-spinner {\n",
              "    border: 2px solid var(--fill-color);\n",
              "    border-color: transparent;\n",
              "    border-bottom-color: var(--fill-color);\n",
              "    animation:\n",
              "      spin 1s steps(1) infinite;\n",
              "  }\n",
              "\n",
              "  @keyframes spin {\n",
              "    0% {\n",
              "      border-color: transparent;\n",
              "      border-bottom-color: var(--fill-color);\n",
              "      border-left-color: var(--fill-color);\n",
              "    }\n",
              "    20% {\n",
              "      border-color: transparent;\n",
              "      border-left-color: var(--fill-color);\n",
              "      border-top-color: var(--fill-color);\n",
              "    }\n",
              "    30% {\n",
              "      border-color: transparent;\n",
              "      border-left-color: var(--fill-color);\n",
              "      border-top-color: var(--fill-color);\n",
              "      border-right-color: var(--fill-color);\n",
              "    }\n",
              "    40% {\n",
              "      border-color: transparent;\n",
              "      border-right-color: var(--fill-color);\n",
              "      border-top-color: var(--fill-color);\n",
              "    }\n",
              "    60% {\n",
              "      border-color: transparent;\n",
              "      border-right-color: var(--fill-color);\n",
              "    }\n",
              "    80% {\n",
              "      border-color: transparent;\n",
              "      border-right-color: var(--fill-color);\n",
              "      border-bottom-color: var(--fill-color);\n",
              "    }\n",
              "    90% {\n",
              "      border-color: transparent;\n",
              "      border-bottom-color: var(--fill-color);\n",
              "    }\n",
              "  }\n",
              "</style>\n",
              "\n",
              "  <script>\n",
              "    async function quickchart(key) {\n",
              "      const quickchartButtonEl =\n",
              "        document.querySelector('#' + key + ' button');\n",
              "      quickchartButtonEl.disabled = true;  // To prevent multiple clicks.\n",
              "      quickchartButtonEl.classList.add('colab-df-spinner');\n",
              "      try {\n",
              "        const charts = await google.colab.kernel.invokeFunction(\n",
              "            'suggestCharts', [key], {});\n",
              "      } catch (error) {\n",
              "        console.error('Error during call to suggestCharts:', error);\n",
              "      }\n",
              "      quickchartButtonEl.classList.remove('colab-df-spinner');\n",
              "      quickchartButtonEl.classList.add('colab-df-quickchart-complete');\n",
              "    }\n",
              "    (() => {\n",
              "      let quickchartButtonEl =\n",
              "        document.querySelector('#df-67a01870-e412-4a4d-9c1a-b1952ee411bb button');\n",
              "      quickchartButtonEl.style.display =\n",
              "        google.colab.kernel.accessAllowed ? 'block' : 'none';\n",
              "    })();\n",
              "  </script>\n",
              "</div>\n",
              "\n",
              "    </div>\n",
              "  </div>\n"
            ],
            "application/vnd.google.colaboratory.intrinsic+json": {
              "type": "dataframe",
              "variable_name": "df",
              "repr_error": "'str' object has no attribute 'empty'"
            }
          },
          "metadata": {},
          "execution_count": 2
        }
      ]
    },
    {
      "cell_type": "code",
      "source": [
        "#Getting the shape of the data\n",
        "df.shape"
      ],
      "metadata": {
        "colab": {
          "base_uri": "https://localhost:8080/"
        },
        "id": "GR4PEWc-t0r2",
        "outputId": "dc4fe89a-e7a6-41d7-bcdc-757fae8bb38e"
      },
      "execution_count": 3,
      "outputs": [
        {
          "output_type": "execute_result",
          "data": {
            "text/plain": [
              "(19104, 14)"
            ]
          },
          "metadata": {},
          "execution_count": 3
        }
      ]
    },
    {
      "cell_type": "code",
      "source": [
        "#dropping unnamed column\n",
        "df.drop('Unnamed: 0',axis=1,inplace=True)\n"
      ],
      "metadata": {
        "id": "8ZK1N9CVhn5i"
      },
      "execution_count": 4,
      "outputs": []
    },
    {
      "cell_type": "code",
      "source": [
        "df.info()"
      ],
      "metadata": {
        "colab": {
          "base_uri": "https://localhost:8080/"
        },
        "id": "z3lpa96sjvRO",
        "outputId": "49fdb2d0-9f3e-4f84-81bd-adb3afb581c5"
      },
      "execution_count": 5,
      "outputs": [
        {
          "output_type": "stream",
          "name": "stdout",
          "text": [
            "<class 'pandas.core.frame.DataFrame'>\n",
            "RangeIndex: 19104 entries, 0 to 19103\n",
            "Data columns (total 13 columns):\n",
            " #   Column                Non-Null Count  Dtype  \n",
            "---  ------                --------------  -----  \n",
            " 0   MMM-YY                19104 non-null  object \n",
            " 1   Driver_ID             19104 non-null  int64  \n",
            " 2   Age                   19043 non-null  float64\n",
            " 3   Gender                19052 non-null  float64\n",
            " 4   City                  19104 non-null  object \n",
            " 5   Education_Level       19104 non-null  int64  \n",
            " 6   Income                19104 non-null  int64  \n",
            " 7   Dateofjoining         19104 non-null  object \n",
            " 8   LastWorkingDate       1616 non-null   object \n",
            " 9   Joining Designation   19104 non-null  int64  \n",
            " 10  Grade                 19104 non-null  int64  \n",
            " 11  Total Business Value  19104 non-null  int64  \n",
            " 12  Quarterly Rating      19104 non-null  int64  \n",
            "dtypes: float64(2), int64(7), object(4)\n",
            "memory usage: 1.9+ MB\n"
          ]
        }
      ]
    },
    {
      "cell_type": "markdown",
      "source": [
        "## **Data Preprocessing steps:**"
      ],
      "metadata": {
        "id": "-4g617mkmGbB"
      }
    },
    {
      "cell_type": "markdown",
      "source": [
        "**Transforming Data Type to a Specific Type in Pandas DataFrame**"
      ],
      "metadata": {
        "id": "jVHn-ZAxqtGu"
      }
    },
    {
      "cell_type": "code",
      "source": [
        "#converting date-time datatype to date-time\n",
        "df['MMM-YY']=pd.to_datetime(df['MMM-YY'])\n",
        "df['Dateofjoining']=pd.to_datetime(df['Dateofjoining'])\n",
        "df['LastWorkingDate']=pd.to_datetime(df['LastWorkingDate'])"
      ],
      "metadata": {
        "id": "cVhUVbwxkXbp"
      },
      "execution_count": 6,
      "outputs": []
    },
    {
      "cell_type": "markdown",
      "source": [
        "**Checking for missing values and Preparing data for KNN Imputation**"
      ],
      "metadata": {
        "id": "oWG2MBLbumPV"
      }
    },
    {
      "cell_type": "code",
      "source": [
        "#checking for null values\n",
        "round(df.isnull().sum()/df.shape[1],2)"
      ],
      "metadata": {
        "colab": {
          "base_uri": "https://localhost:8080/"
        },
        "id": "61WJjfIxpoy4",
        "outputId": "42938204-e24b-4bae-8522-83169ce89bfe"
      },
      "execution_count": 7,
      "outputs": [
        {
          "output_type": "execute_result",
          "data": {
            "text/plain": [
              "MMM-YY                     0.00\n",
              "Driver_ID                  0.00\n",
              "Age                        4.69\n",
              "Gender                     4.00\n",
              "City                       0.00\n",
              "Education_Level            0.00\n",
              "Income                     0.00\n",
              "Dateofjoining              0.00\n",
              "LastWorkingDate         1345.23\n",
              "Joining Designation        0.00\n",
              "Grade                      0.00\n",
              "Total Business Value       0.00\n",
              "Quarterly Rating           0.00\n",
              "dtype: float64"
            ]
          },
          "metadata": {},
          "execution_count": 7
        }
      ]
    },
    {
      "cell_type": "code",
      "source": [
        "#extracting numerical features\n",
        "num_cols=df.select_dtypes(np.number)\n",
        "num_cols.columns"
      ],
      "metadata": {
        "id": "kQzPhBz0xbxk",
        "colab": {
          "base_uri": "https://localhost:8080/"
        },
        "outputId": "1ad26687-0765-45ce-dc5e-1bb248ded898"
      },
      "execution_count": 8,
      "outputs": [
        {
          "output_type": "execute_result",
          "data": {
            "text/plain": [
              "Index(['Driver_ID', 'Age', 'Gender', 'Education_Level', 'Income',\n",
              "       'Joining Designation', 'Grade', 'Total Business Value',\n",
              "       'Quarterly Rating'],\n",
              "      dtype='object')"
            ]
          },
          "metadata": {},
          "execution_count": 8
        }
      ]
    },
    {
      "cell_type": "code",
      "source": [
        "num_cols.drop('Driver_ID',axis=1,inplace=True)"
      ],
      "metadata": {
        "id": "DWWAVzSezv6Q"
      },
      "execution_count": 9,
      "outputs": []
    },
    {
      "cell_type": "code",
      "source": [
        "from sklearn.impute import KNNImputer\n",
        "imputer = KNNImputer(n_neighbors=5, weights='uniform', metric='nan_euclidean')\n",
        "imputer.fit(num_cols)\n",
        "df_new = imputer.transform(num_cols)"
      ],
      "metadata": {
        "id": "_KfnRm94s8fk"
      },
      "execution_count": 10,
      "outputs": []
    },
    {
      "cell_type": "code",
      "source": [
        "df_new=pd.DataFrame(df_new,columns=num_cols.columns)"
      ],
      "metadata": {
        "id": "2klpRqtbtaS3"
      },
      "execution_count": 11,
      "outputs": []
    },
    {
      "cell_type": "code",
      "source": [
        "df_new.isnull().sum()"
      ],
      "metadata": {
        "colab": {
          "base_uri": "https://localhost:8080/"
        },
        "id": "dpj9f4TAvbw3",
        "outputId": "db173f05-8527-4952-8484-a63488951b95"
      },
      "execution_count": 12,
      "outputs": [
        {
          "output_type": "execute_result",
          "data": {
            "text/plain": [
              "Age                     0\n",
              "Gender                  0\n",
              "Education_Level         0\n",
              "Income                  0\n",
              "Joining Designation     0\n",
              "Grade                   0\n",
              "Total Business Value    0\n",
              "Quarterly Rating        0\n",
              "dtype: int64"
            ]
          },
          "metadata": {},
          "execution_count": 12
        }
      ]
    },
    {
      "cell_type": "code",
      "source": [
        "#concating the dataframes\n",
        "other_cols=df.drop(num_cols,axis=1)\n",
        "new_df=pd.concat([df_new,other_cols],axis=1)\n",
        "new_df.head()"
      ],
      "metadata": {
        "colab": {
          "base_uri": "https://localhost:8080/",
          "height": 327
        },
        "id": "GoCUX76DwAgp",
        "outputId": "dbb50348-5484-4e26-ace1-6a7ffc22010d"
      },
      "execution_count": 13,
      "outputs": [
        {
          "output_type": "execute_result",
          "data": {
            "text/plain": [
              "    Age  Gender  Education_Level   Income  Joining Designation  Grade  \\\n",
              "0  28.0     0.0              2.0  57387.0                  1.0    1.0   \n",
              "1  28.0     0.0              2.0  57387.0                  1.0    1.0   \n",
              "2  28.0     0.0              2.0  57387.0                  1.0    1.0   \n",
              "3  31.0     0.0              2.0  67016.0                  2.0    2.0   \n",
              "4  31.0     0.0              2.0  67016.0                  2.0    2.0   \n",
              "\n",
              "   Total Business Value  Quarterly Rating     MMM-YY  Driver_ID City  \\\n",
              "0             2381060.0               2.0 2019-01-01          1  C23   \n",
              "1             -665480.0               2.0 2019-02-01          1  C23   \n",
              "2                   0.0               2.0 2019-03-01          1  C23   \n",
              "3                   0.0               1.0 2020-11-01          2   C7   \n",
              "4                   0.0               1.0 2020-12-01          2   C7   \n",
              "\n",
              "  Dateofjoining LastWorkingDate  \n",
              "0    2018-12-24             NaT  \n",
              "1    2018-12-24             NaT  \n",
              "2    2018-12-24      2019-03-11  \n",
              "3    2020-11-06             NaT  \n",
              "4    2020-11-06             NaT  "
            ],
            "text/html": [
              "\n",
              "  <div id=\"df-b160ab58-539b-4bda-9f5a-7d04b66ec7c9\" class=\"colab-df-container\">\n",
              "    <div>\n",
              "<style scoped>\n",
              "    .dataframe tbody tr th:only-of-type {\n",
              "        vertical-align: middle;\n",
              "    }\n",
              "\n",
              "    .dataframe tbody tr th {\n",
              "        vertical-align: top;\n",
              "    }\n",
              "\n",
              "    .dataframe thead th {\n",
              "        text-align: right;\n",
              "    }\n",
              "</style>\n",
              "<table border=\"1\" class=\"dataframe\">\n",
              "  <thead>\n",
              "    <tr style=\"text-align: right;\">\n",
              "      <th></th>\n",
              "      <th>Age</th>\n",
              "      <th>Gender</th>\n",
              "      <th>Education_Level</th>\n",
              "      <th>Income</th>\n",
              "      <th>Joining Designation</th>\n",
              "      <th>Grade</th>\n",
              "      <th>Total Business Value</th>\n",
              "      <th>Quarterly Rating</th>\n",
              "      <th>MMM-YY</th>\n",
              "      <th>Driver_ID</th>\n",
              "      <th>City</th>\n",
              "      <th>Dateofjoining</th>\n",
              "      <th>LastWorkingDate</th>\n",
              "    </tr>\n",
              "  </thead>\n",
              "  <tbody>\n",
              "    <tr>\n",
              "      <th>0</th>\n",
              "      <td>28.0</td>\n",
              "      <td>0.0</td>\n",
              "      <td>2.0</td>\n",
              "      <td>57387.0</td>\n",
              "      <td>1.0</td>\n",
              "      <td>1.0</td>\n",
              "      <td>2381060.0</td>\n",
              "      <td>2.0</td>\n",
              "      <td>2019-01-01</td>\n",
              "      <td>1</td>\n",
              "      <td>C23</td>\n",
              "      <td>2018-12-24</td>\n",
              "      <td>NaT</td>\n",
              "    </tr>\n",
              "    <tr>\n",
              "      <th>1</th>\n",
              "      <td>28.0</td>\n",
              "      <td>0.0</td>\n",
              "      <td>2.0</td>\n",
              "      <td>57387.0</td>\n",
              "      <td>1.0</td>\n",
              "      <td>1.0</td>\n",
              "      <td>-665480.0</td>\n",
              "      <td>2.0</td>\n",
              "      <td>2019-02-01</td>\n",
              "      <td>1</td>\n",
              "      <td>C23</td>\n",
              "      <td>2018-12-24</td>\n",
              "      <td>NaT</td>\n",
              "    </tr>\n",
              "    <tr>\n",
              "      <th>2</th>\n",
              "      <td>28.0</td>\n",
              "      <td>0.0</td>\n",
              "      <td>2.0</td>\n",
              "      <td>57387.0</td>\n",
              "      <td>1.0</td>\n",
              "      <td>1.0</td>\n",
              "      <td>0.0</td>\n",
              "      <td>2.0</td>\n",
              "      <td>2019-03-01</td>\n",
              "      <td>1</td>\n",
              "      <td>C23</td>\n",
              "      <td>2018-12-24</td>\n",
              "      <td>2019-03-11</td>\n",
              "    </tr>\n",
              "    <tr>\n",
              "      <th>3</th>\n",
              "      <td>31.0</td>\n",
              "      <td>0.0</td>\n",
              "      <td>2.0</td>\n",
              "      <td>67016.0</td>\n",
              "      <td>2.0</td>\n",
              "      <td>2.0</td>\n",
              "      <td>0.0</td>\n",
              "      <td>1.0</td>\n",
              "      <td>2020-11-01</td>\n",
              "      <td>2</td>\n",
              "      <td>C7</td>\n",
              "      <td>2020-11-06</td>\n",
              "      <td>NaT</td>\n",
              "    </tr>\n",
              "    <tr>\n",
              "      <th>4</th>\n",
              "      <td>31.0</td>\n",
              "      <td>0.0</td>\n",
              "      <td>2.0</td>\n",
              "      <td>67016.0</td>\n",
              "      <td>2.0</td>\n",
              "      <td>2.0</td>\n",
              "      <td>0.0</td>\n",
              "      <td>1.0</td>\n",
              "      <td>2020-12-01</td>\n",
              "      <td>2</td>\n",
              "      <td>C7</td>\n",
              "      <td>2020-11-06</td>\n",
              "      <td>NaT</td>\n",
              "    </tr>\n",
              "  </tbody>\n",
              "</table>\n",
              "</div>\n",
              "    <div class=\"colab-df-buttons\">\n",
              "\n",
              "  <div class=\"colab-df-container\">\n",
              "    <button class=\"colab-df-convert\" onclick=\"convertToInteractive('df-b160ab58-539b-4bda-9f5a-7d04b66ec7c9')\"\n",
              "            title=\"Convert this dataframe to an interactive table.\"\n",
              "            style=\"display:none;\">\n",
              "\n",
              "  <svg xmlns=\"http://www.w3.org/2000/svg\" height=\"24px\" viewBox=\"0 -960 960 960\">\n",
              "    <path d=\"M120-120v-720h720v720H120Zm60-500h600v-160H180v160Zm220 220h160v-160H400v160Zm0 220h160v-160H400v160ZM180-400h160v-160H180v160Zm440 0h160v-160H620v160ZM180-180h160v-160H180v160Zm440 0h160v-160H620v160Z\"/>\n",
              "  </svg>\n",
              "    </button>\n",
              "\n",
              "  <style>\n",
              "    .colab-df-container {\n",
              "      display:flex;\n",
              "      gap: 12px;\n",
              "    }\n",
              "\n",
              "    .colab-df-convert {\n",
              "      background-color: #E8F0FE;\n",
              "      border: none;\n",
              "      border-radius: 50%;\n",
              "      cursor: pointer;\n",
              "      display: none;\n",
              "      fill: #1967D2;\n",
              "      height: 32px;\n",
              "      padding: 0 0 0 0;\n",
              "      width: 32px;\n",
              "    }\n",
              "\n",
              "    .colab-df-convert:hover {\n",
              "      background-color: #E2EBFA;\n",
              "      box-shadow: 0px 1px 2px rgba(60, 64, 67, 0.3), 0px 1px 3px 1px rgba(60, 64, 67, 0.15);\n",
              "      fill: #174EA6;\n",
              "    }\n",
              "\n",
              "    .colab-df-buttons div {\n",
              "      margin-bottom: 4px;\n",
              "    }\n",
              "\n",
              "    [theme=dark] .colab-df-convert {\n",
              "      background-color: #3B4455;\n",
              "      fill: #D2E3FC;\n",
              "    }\n",
              "\n",
              "    [theme=dark] .colab-df-convert:hover {\n",
              "      background-color: #434B5C;\n",
              "      box-shadow: 0px 1px 3px 1px rgba(0, 0, 0, 0.15);\n",
              "      filter: drop-shadow(0px 1px 2px rgba(0, 0, 0, 0.3));\n",
              "      fill: #FFFFFF;\n",
              "    }\n",
              "  </style>\n",
              "\n",
              "    <script>\n",
              "      const buttonEl =\n",
              "        document.querySelector('#df-b160ab58-539b-4bda-9f5a-7d04b66ec7c9 button.colab-df-convert');\n",
              "      buttonEl.style.display =\n",
              "        google.colab.kernel.accessAllowed ? 'block' : 'none';\n",
              "\n",
              "      async function convertToInteractive(key) {\n",
              "        const element = document.querySelector('#df-b160ab58-539b-4bda-9f5a-7d04b66ec7c9');\n",
              "        const dataTable =\n",
              "          await google.colab.kernel.invokeFunction('convertToInteractive',\n",
              "                                                    [key], {});\n",
              "        if (!dataTable) return;\n",
              "\n",
              "        const docLinkHtml = 'Like what you see? Visit the ' +\n",
              "          '<a target=\"_blank\" href=https://colab.research.google.com/notebooks/data_table.ipynb>data table notebook</a>'\n",
              "          + ' to learn more about interactive tables.';\n",
              "        element.innerHTML = '';\n",
              "        dataTable['output_type'] = 'display_data';\n",
              "        await google.colab.output.renderOutput(dataTable, element);\n",
              "        const docLink = document.createElement('div');\n",
              "        docLink.innerHTML = docLinkHtml;\n",
              "        element.appendChild(docLink);\n",
              "      }\n",
              "    </script>\n",
              "  </div>\n",
              "\n",
              "\n",
              "<div id=\"df-625f110f-a1fd-40ba-9ada-b33e0064405a\">\n",
              "  <button class=\"colab-df-quickchart\" onclick=\"quickchart('df-625f110f-a1fd-40ba-9ada-b33e0064405a')\"\n",
              "            title=\"Suggest charts\"\n",
              "            style=\"display:none;\">\n",
              "\n",
              "<svg xmlns=\"http://www.w3.org/2000/svg\" height=\"24px\"viewBox=\"0 0 24 24\"\n",
              "     width=\"24px\">\n",
              "    <g>\n",
              "        <path d=\"M19 3H5c-1.1 0-2 .9-2 2v14c0 1.1.9 2 2 2h14c1.1 0 2-.9 2-2V5c0-1.1-.9-2-2-2zM9 17H7v-7h2v7zm4 0h-2V7h2v10zm4 0h-2v-4h2v4z\"/>\n",
              "    </g>\n",
              "</svg>\n",
              "  </button>\n",
              "\n",
              "<style>\n",
              "  .colab-df-quickchart {\n",
              "      --bg-color: #E8F0FE;\n",
              "      --fill-color: #1967D2;\n",
              "      --hover-bg-color: #E2EBFA;\n",
              "      --hover-fill-color: #174EA6;\n",
              "      --disabled-fill-color: #AAA;\n",
              "      --disabled-bg-color: #DDD;\n",
              "  }\n",
              "\n",
              "  [theme=dark] .colab-df-quickchart {\n",
              "      --bg-color: #3B4455;\n",
              "      --fill-color: #D2E3FC;\n",
              "      --hover-bg-color: #434B5C;\n",
              "      --hover-fill-color: #FFFFFF;\n",
              "      --disabled-bg-color: #3B4455;\n",
              "      --disabled-fill-color: #666;\n",
              "  }\n",
              "\n",
              "  .colab-df-quickchart {\n",
              "    background-color: var(--bg-color);\n",
              "    border: none;\n",
              "    border-radius: 50%;\n",
              "    cursor: pointer;\n",
              "    display: none;\n",
              "    fill: var(--fill-color);\n",
              "    height: 32px;\n",
              "    padding: 0;\n",
              "    width: 32px;\n",
              "  }\n",
              "\n",
              "  .colab-df-quickchart:hover {\n",
              "    background-color: var(--hover-bg-color);\n",
              "    box-shadow: 0 1px 2px rgba(60, 64, 67, 0.3), 0 1px 3px 1px rgba(60, 64, 67, 0.15);\n",
              "    fill: var(--button-hover-fill-color);\n",
              "  }\n",
              "\n",
              "  .colab-df-quickchart-complete:disabled,\n",
              "  .colab-df-quickchart-complete:disabled:hover {\n",
              "    background-color: var(--disabled-bg-color);\n",
              "    fill: var(--disabled-fill-color);\n",
              "    box-shadow: none;\n",
              "  }\n",
              "\n",
              "  .colab-df-spinner {\n",
              "    border: 2px solid var(--fill-color);\n",
              "    border-color: transparent;\n",
              "    border-bottom-color: var(--fill-color);\n",
              "    animation:\n",
              "      spin 1s steps(1) infinite;\n",
              "  }\n",
              "\n",
              "  @keyframes spin {\n",
              "    0% {\n",
              "      border-color: transparent;\n",
              "      border-bottom-color: var(--fill-color);\n",
              "      border-left-color: var(--fill-color);\n",
              "    }\n",
              "    20% {\n",
              "      border-color: transparent;\n",
              "      border-left-color: var(--fill-color);\n",
              "      border-top-color: var(--fill-color);\n",
              "    }\n",
              "    30% {\n",
              "      border-color: transparent;\n",
              "      border-left-color: var(--fill-color);\n",
              "      border-top-color: var(--fill-color);\n",
              "      border-right-color: var(--fill-color);\n",
              "    }\n",
              "    40% {\n",
              "      border-color: transparent;\n",
              "      border-right-color: var(--fill-color);\n",
              "      border-top-color: var(--fill-color);\n",
              "    }\n",
              "    60% {\n",
              "      border-color: transparent;\n",
              "      border-right-color: var(--fill-color);\n",
              "    }\n",
              "    80% {\n",
              "      border-color: transparent;\n",
              "      border-right-color: var(--fill-color);\n",
              "      border-bottom-color: var(--fill-color);\n",
              "    }\n",
              "    90% {\n",
              "      border-color: transparent;\n",
              "      border-bottom-color: var(--fill-color);\n",
              "    }\n",
              "  }\n",
              "</style>\n",
              "\n",
              "  <script>\n",
              "    async function quickchart(key) {\n",
              "      const quickchartButtonEl =\n",
              "        document.querySelector('#' + key + ' button');\n",
              "      quickchartButtonEl.disabled = true;  // To prevent multiple clicks.\n",
              "      quickchartButtonEl.classList.add('colab-df-spinner');\n",
              "      try {\n",
              "        const charts = await google.colab.kernel.invokeFunction(\n",
              "            'suggestCharts', [key], {});\n",
              "      } catch (error) {\n",
              "        console.error('Error during call to suggestCharts:', error);\n",
              "      }\n",
              "      quickchartButtonEl.classList.remove('colab-df-spinner');\n",
              "      quickchartButtonEl.classList.add('colab-df-quickchart-complete');\n",
              "    }\n",
              "    (() => {\n",
              "      let quickchartButtonEl =\n",
              "        document.querySelector('#df-625f110f-a1fd-40ba-9ada-b33e0064405a button');\n",
              "      quickchartButtonEl.style.display =\n",
              "        google.colab.kernel.accessAllowed ? 'block' : 'none';\n",
              "    })();\n",
              "  </script>\n",
              "</div>\n",
              "\n",
              "    </div>\n",
              "  </div>\n"
            ],
            "application/vnd.google.colaboratory.intrinsic+json": {
              "type": "dataframe",
              "variable_name": "new_df",
              "summary": "{\n  \"name\": \"new_df\",\n  \"rows\": 19104,\n  \"fields\": [\n    {\n      \"column\": \"Age\",\n      \"properties\": {\n        \"dtype\": \"number\",\n        \"std\": 6.252740166811253,\n        \"min\": 21.0,\n        \"max\": 58.0,\n        \"num_unique_values\": 70,\n        \"samples\": [\n          34.6,\n          28.0,\n          32.8\n        ],\n        \"semantic_type\": \"\",\n        \"description\": \"\"\n      }\n    },\n    {\n      \"column\": \"Gender\",\n      \"properties\": {\n        \"dtype\": \"number\",\n        \"std\": 0.4929769437008159,\n        \"min\": 0.0,\n        \"max\": 1.0,\n        \"num_unique_values\": 6,\n        \"samples\": [\n          0.0,\n          1.0,\n          0.4\n        ],\n        \"semantic_type\": \"\",\n        \"description\": \"\"\n      }\n    },\n    {\n      \"column\": \"Education_Level\",\n      \"properties\": {\n        \"dtype\": \"number\",\n        \"std\": 0.8001671116073311,\n        \"min\": 0.0,\n        \"max\": 2.0,\n        \"num_unique_values\": 3,\n        \"samples\": [\n          2.0,\n          0.0,\n          1.0\n        ],\n        \"semantic_type\": \"\",\n        \"description\": \"\"\n      }\n    },\n    {\n      \"column\": \"Income\",\n      \"properties\": {\n        \"dtype\": \"number\",\n        \"std\": 30914.515344441803,\n        \"min\": 10747.0,\n        \"max\": 188418.0,\n        \"num_unique_values\": 2383,\n        \"samples\": [\n          44273.0,\n          35370.0,\n          46345.0\n        ],\n        \"semantic_type\": \"\",\n        \"description\": \"\"\n      }\n    },\n    {\n      \"column\": \"Joining Designation\",\n      \"properties\": {\n        \"dtype\": \"number\",\n        \"std\": 0.8369837171189359,\n        \"min\": 1.0,\n        \"max\": 5.0,\n        \"num_unique_values\": 5,\n        \"samples\": [\n          2.0,\n          5.0,\n          3.0\n        ],\n        \"semantic_type\": \"\",\n        \"description\": \"\"\n      }\n    },\n    {\n      \"column\": \"Grade\",\n      \"properties\": {\n        \"dtype\": \"number\",\n        \"std\": 1.0265124881442518,\n        \"min\": 1.0,\n        \"max\": 5.0,\n        \"num_unique_values\": 5,\n        \"samples\": [\n          2.0,\n          5.0,\n          3.0\n        ],\n        \"semantic_type\": \"\",\n        \"description\": \"\"\n      }\n    },\n    {\n      \"column\": \"Total Business Value\",\n      \"properties\": {\n        \"dtype\": \"number\",\n        \"std\": 1128312.218461321,\n        \"min\": -6000000.0,\n        \"max\": 33747720.0,\n        \"num_unique_values\": 10181,\n        \"samples\": [\n          431090.0,\n          720180.0,\n          333360.0\n        ],\n        \"semantic_type\": \"\",\n        \"description\": \"\"\n      }\n    },\n    {\n      \"column\": \"Quarterly Rating\",\n      \"properties\": {\n        \"dtype\": \"number\",\n        \"std\": 1.0098319788169359,\n        \"min\": 1.0,\n        \"max\": 4.0,\n        \"num_unique_values\": 4,\n        \"samples\": [\n          1.0,\n          3.0,\n          2.0\n        ],\n        \"semantic_type\": \"\",\n        \"description\": \"\"\n      }\n    },\n    {\n      \"column\": \"MMM-YY\",\n      \"properties\": {\n        \"dtype\": \"date\",\n        \"min\": \"2019-01-01 00:00:00\",\n        \"max\": \"2020-12-01 00:00:00\",\n        \"num_unique_values\": 24,\n        \"samples\": [\n          \"2020-03-01 00:00:00\",\n          \"2019-10-01 00:00:00\",\n          \"2019-01-01 00:00:00\"\n        ],\n        \"semantic_type\": \"\",\n        \"description\": \"\"\n      }\n    },\n    {\n      \"column\": \"Driver_ID\",\n      \"properties\": {\n        \"dtype\": \"number\",\n        \"std\": 810,\n        \"min\": 1,\n        \"max\": 2788,\n        \"num_unique_values\": 2381,\n        \"samples\": [\n          1663,\n          1264,\n          1618\n        ],\n        \"semantic_type\": \"\",\n        \"description\": \"\"\n      }\n    },\n    {\n      \"column\": \"City\",\n      \"properties\": {\n        \"dtype\": \"category\",\n        \"num_unique_values\": 29,\n        \"samples\": [\n          \"C22\",\n          \"C5\",\n          \"C24\"\n        ],\n        \"semantic_type\": \"\",\n        \"description\": \"\"\n      }\n    },\n    {\n      \"column\": \"Dateofjoining\",\n      \"properties\": {\n        \"dtype\": \"date\",\n        \"min\": \"2013-04-01 00:00:00\",\n        \"max\": \"2020-12-28 00:00:00\",\n        \"num_unique_values\": 869,\n        \"samples\": [\n          \"2019-09-14 00:00:00\",\n          \"2018-01-06 00:00:00\",\n          \"2016-05-13 00:00:00\"\n        ],\n        \"semantic_type\": \"\",\n        \"description\": \"\"\n      }\n    },\n    {\n      \"column\": \"LastWorkingDate\",\n      \"properties\": {\n        \"dtype\": \"date\",\n        \"min\": \"2018-12-31 00:00:00\",\n        \"max\": \"2020-12-28 00:00:00\",\n        \"num_unique_values\": 493,\n        \"samples\": [\n          \"2020-05-03 00:00:00\",\n          \"2019-10-01 00:00:00\",\n          \"2019-07-19 00:00:00\"\n        ],\n        \"semantic_type\": \"\",\n        \"description\": \"\"\n      }\n    }\n  ]\n}"
            }
          },
          "metadata": {},
          "execution_count": 13
        }
      ]
    },
    {
      "cell_type": "code",
      "source": [
        "#Aggregate data in order to remove multiple occurrences of same driver data\n",
        "grouped_data = df.groupby('Driver_ID').agg({\n",
        "    'Age': 'max',\n",
        "    'Gender': 'first',\n",
        "    'City': 'first',\n",
        "    'Education_Level': 'last',\n",
        "    'Income': 'last',\n",
        "    'Dateofjoining': 'last',\n",
        "    'LastWorkingDate': 'last',\n",
        "    'Joining Designation': 'last',\n",
        "    'Grade': 'last',\n",
        "    'Total Business Value': 'sum',\n",
        "    'Quarterly Rating': 'last',\n",
        "})\n",
        "# Reset index to make Driver_ID a regular column instead of the index\n",
        "grouped_data.reset_index(inplace=True)"
      ],
      "metadata": {
        "id": "eaIbyOO1yncU"
      },
      "execution_count": 14,
      "outputs": []
    },
    {
      "cell_type": "code",
      "source": [
        "grouped_data.head()"
      ],
      "metadata": {
        "colab": {
          "base_uri": "https://localhost:8080/",
          "height": 223
        },
        "id": "GdEmAt_14I3d",
        "outputId": "e18fde18-dcec-41fc-866e-c48b00240cb1"
      },
      "execution_count": 15,
      "outputs": [
        {
          "output_type": "execute_result",
          "data": {
            "text/plain": [
              "   Driver_ID   Age  Gender City  Education_Level  Income Dateofjoining  \\\n",
              "0          1  28.0     0.0  C23                2   57387    2018-12-24   \n",
              "1          2  31.0     0.0   C7                2   67016    2020-11-06   \n",
              "2          4  43.0     0.0  C13                2   65603    2019-12-07   \n",
              "3          5  29.0     0.0   C9                0   46368    2019-01-09   \n",
              "4          6  31.0     1.0  C11                1   78728    2020-07-31   \n",
              "\n",
              "  LastWorkingDate  Joining Designation  Grade  Total Business Value  \\\n",
              "0      2019-03-11                    1      1               1715580   \n",
              "1             NaT                    2      2                     0   \n",
              "2      2020-04-27                    2      2                350000   \n",
              "3      2019-03-07                    1      1                120360   \n",
              "4             NaT                    3      3               1265000   \n",
              "\n",
              "   Quarterly Rating  \n",
              "0                 2  \n",
              "1                 1  \n",
              "2                 1  \n",
              "3                 1  \n",
              "4                 2  "
            ],
            "text/html": [
              "\n",
              "  <div id=\"df-750411cb-924d-45a3-87ef-cd64bfe2f82b\" class=\"colab-df-container\">\n",
              "    <div>\n",
              "<style scoped>\n",
              "    .dataframe tbody tr th:only-of-type {\n",
              "        vertical-align: middle;\n",
              "    }\n",
              "\n",
              "    .dataframe tbody tr th {\n",
              "        vertical-align: top;\n",
              "    }\n",
              "\n",
              "    .dataframe thead th {\n",
              "        text-align: right;\n",
              "    }\n",
              "</style>\n",
              "<table border=\"1\" class=\"dataframe\">\n",
              "  <thead>\n",
              "    <tr style=\"text-align: right;\">\n",
              "      <th></th>\n",
              "      <th>Driver_ID</th>\n",
              "      <th>Age</th>\n",
              "      <th>Gender</th>\n",
              "      <th>City</th>\n",
              "      <th>Education_Level</th>\n",
              "      <th>Income</th>\n",
              "      <th>Dateofjoining</th>\n",
              "      <th>LastWorkingDate</th>\n",
              "      <th>Joining Designation</th>\n",
              "      <th>Grade</th>\n",
              "      <th>Total Business Value</th>\n",
              "      <th>Quarterly Rating</th>\n",
              "    </tr>\n",
              "  </thead>\n",
              "  <tbody>\n",
              "    <tr>\n",
              "      <th>0</th>\n",
              "      <td>1</td>\n",
              "      <td>28.0</td>\n",
              "      <td>0.0</td>\n",
              "      <td>C23</td>\n",
              "      <td>2</td>\n",
              "      <td>57387</td>\n",
              "      <td>2018-12-24</td>\n",
              "      <td>2019-03-11</td>\n",
              "      <td>1</td>\n",
              "      <td>1</td>\n",
              "      <td>1715580</td>\n",
              "      <td>2</td>\n",
              "    </tr>\n",
              "    <tr>\n",
              "      <th>1</th>\n",
              "      <td>2</td>\n",
              "      <td>31.0</td>\n",
              "      <td>0.0</td>\n",
              "      <td>C7</td>\n",
              "      <td>2</td>\n",
              "      <td>67016</td>\n",
              "      <td>2020-11-06</td>\n",
              "      <td>NaT</td>\n",
              "      <td>2</td>\n",
              "      <td>2</td>\n",
              "      <td>0</td>\n",
              "      <td>1</td>\n",
              "    </tr>\n",
              "    <tr>\n",
              "      <th>2</th>\n",
              "      <td>4</td>\n",
              "      <td>43.0</td>\n",
              "      <td>0.0</td>\n",
              "      <td>C13</td>\n",
              "      <td>2</td>\n",
              "      <td>65603</td>\n",
              "      <td>2019-12-07</td>\n",
              "      <td>2020-04-27</td>\n",
              "      <td>2</td>\n",
              "      <td>2</td>\n",
              "      <td>350000</td>\n",
              "      <td>1</td>\n",
              "    </tr>\n",
              "    <tr>\n",
              "      <th>3</th>\n",
              "      <td>5</td>\n",
              "      <td>29.0</td>\n",
              "      <td>0.0</td>\n",
              "      <td>C9</td>\n",
              "      <td>0</td>\n",
              "      <td>46368</td>\n",
              "      <td>2019-01-09</td>\n",
              "      <td>2019-03-07</td>\n",
              "      <td>1</td>\n",
              "      <td>1</td>\n",
              "      <td>120360</td>\n",
              "      <td>1</td>\n",
              "    </tr>\n",
              "    <tr>\n",
              "      <th>4</th>\n",
              "      <td>6</td>\n",
              "      <td>31.0</td>\n",
              "      <td>1.0</td>\n",
              "      <td>C11</td>\n",
              "      <td>1</td>\n",
              "      <td>78728</td>\n",
              "      <td>2020-07-31</td>\n",
              "      <td>NaT</td>\n",
              "      <td>3</td>\n",
              "      <td>3</td>\n",
              "      <td>1265000</td>\n",
              "      <td>2</td>\n",
              "    </tr>\n",
              "  </tbody>\n",
              "</table>\n",
              "</div>\n",
              "    <div class=\"colab-df-buttons\">\n",
              "\n",
              "  <div class=\"colab-df-container\">\n",
              "    <button class=\"colab-df-convert\" onclick=\"convertToInteractive('df-750411cb-924d-45a3-87ef-cd64bfe2f82b')\"\n",
              "            title=\"Convert this dataframe to an interactive table.\"\n",
              "            style=\"display:none;\">\n",
              "\n",
              "  <svg xmlns=\"http://www.w3.org/2000/svg\" height=\"24px\" viewBox=\"0 -960 960 960\">\n",
              "    <path d=\"M120-120v-720h720v720H120Zm60-500h600v-160H180v160Zm220 220h160v-160H400v160Zm0 220h160v-160H400v160ZM180-400h160v-160H180v160Zm440 0h160v-160H620v160ZM180-180h160v-160H180v160Zm440 0h160v-160H620v160Z\"/>\n",
              "  </svg>\n",
              "    </button>\n",
              "\n",
              "  <style>\n",
              "    .colab-df-container {\n",
              "      display:flex;\n",
              "      gap: 12px;\n",
              "    }\n",
              "\n",
              "    .colab-df-convert {\n",
              "      background-color: #E8F0FE;\n",
              "      border: none;\n",
              "      border-radius: 50%;\n",
              "      cursor: pointer;\n",
              "      display: none;\n",
              "      fill: #1967D2;\n",
              "      height: 32px;\n",
              "      padding: 0 0 0 0;\n",
              "      width: 32px;\n",
              "    }\n",
              "\n",
              "    .colab-df-convert:hover {\n",
              "      background-color: #E2EBFA;\n",
              "      box-shadow: 0px 1px 2px rgba(60, 64, 67, 0.3), 0px 1px 3px 1px rgba(60, 64, 67, 0.15);\n",
              "      fill: #174EA6;\n",
              "    }\n",
              "\n",
              "    .colab-df-buttons div {\n",
              "      margin-bottom: 4px;\n",
              "    }\n",
              "\n",
              "    [theme=dark] .colab-df-convert {\n",
              "      background-color: #3B4455;\n",
              "      fill: #D2E3FC;\n",
              "    }\n",
              "\n",
              "    [theme=dark] .colab-df-convert:hover {\n",
              "      background-color: #434B5C;\n",
              "      box-shadow: 0px 1px 3px 1px rgba(0, 0, 0, 0.15);\n",
              "      filter: drop-shadow(0px 1px 2px rgba(0, 0, 0, 0.3));\n",
              "      fill: #FFFFFF;\n",
              "    }\n",
              "  </style>\n",
              "\n",
              "    <script>\n",
              "      const buttonEl =\n",
              "        document.querySelector('#df-750411cb-924d-45a3-87ef-cd64bfe2f82b button.colab-df-convert');\n",
              "      buttonEl.style.display =\n",
              "        google.colab.kernel.accessAllowed ? 'block' : 'none';\n",
              "\n",
              "      async function convertToInteractive(key) {\n",
              "        const element = document.querySelector('#df-750411cb-924d-45a3-87ef-cd64bfe2f82b');\n",
              "        const dataTable =\n",
              "          await google.colab.kernel.invokeFunction('convertToInteractive',\n",
              "                                                    [key], {});\n",
              "        if (!dataTable) return;\n",
              "\n",
              "        const docLinkHtml = 'Like what you see? Visit the ' +\n",
              "          '<a target=\"_blank\" href=https://colab.research.google.com/notebooks/data_table.ipynb>data table notebook</a>'\n",
              "          + ' to learn more about interactive tables.';\n",
              "        element.innerHTML = '';\n",
              "        dataTable['output_type'] = 'display_data';\n",
              "        await google.colab.output.renderOutput(dataTable, element);\n",
              "        const docLink = document.createElement('div');\n",
              "        docLink.innerHTML = docLinkHtml;\n",
              "        element.appendChild(docLink);\n",
              "      }\n",
              "    </script>\n",
              "  </div>\n",
              "\n",
              "\n",
              "<div id=\"df-28edba95-5e8f-4e79-92a6-abb3fc1b4b23\">\n",
              "  <button class=\"colab-df-quickchart\" onclick=\"quickchart('df-28edba95-5e8f-4e79-92a6-abb3fc1b4b23')\"\n",
              "            title=\"Suggest charts\"\n",
              "            style=\"display:none;\">\n",
              "\n",
              "<svg xmlns=\"http://www.w3.org/2000/svg\" height=\"24px\"viewBox=\"0 0 24 24\"\n",
              "     width=\"24px\">\n",
              "    <g>\n",
              "        <path d=\"M19 3H5c-1.1 0-2 .9-2 2v14c0 1.1.9 2 2 2h14c1.1 0 2-.9 2-2V5c0-1.1-.9-2-2-2zM9 17H7v-7h2v7zm4 0h-2V7h2v10zm4 0h-2v-4h2v4z\"/>\n",
              "    </g>\n",
              "</svg>\n",
              "  </button>\n",
              "\n",
              "<style>\n",
              "  .colab-df-quickchart {\n",
              "      --bg-color: #E8F0FE;\n",
              "      --fill-color: #1967D2;\n",
              "      --hover-bg-color: #E2EBFA;\n",
              "      --hover-fill-color: #174EA6;\n",
              "      --disabled-fill-color: #AAA;\n",
              "      --disabled-bg-color: #DDD;\n",
              "  }\n",
              "\n",
              "  [theme=dark] .colab-df-quickchart {\n",
              "      --bg-color: #3B4455;\n",
              "      --fill-color: #D2E3FC;\n",
              "      --hover-bg-color: #434B5C;\n",
              "      --hover-fill-color: #FFFFFF;\n",
              "      --disabled-bg-color: #3B4455;\n",
              "      --disabled-fill-color: #666;\n",
              "  }\n",
              "\n",
              "  .colab-df-quickchart {\n",
              "    background-color: var(--bg-color);\n",
              "    border: none;\n",
              "    border-radius: 50%;\n",
              "    cursor: pointer;\n",
              "    display: none;\n",
              "    fill: var(--fill-color);\n",
              "    height: 32px;\n",
              "    padding: 0;\n",
              "    width: 32px;\n",
              "  }\n",
              "\n",
              "  .colab-df-quickchart:hover {\n",
              "    background-color: var(--hover-bg-color);\n",
              "    box-shadow: 0 1px 2px rgba(60, 64, 67, 0.3), 0 1px 3px 1px rgba(60, 64, 67, 0.15);\n",
              "    fill: var(--button-hover-fill-color);\n",
              "  }\n",
              "\n",
              "  .colab-df-quickchart-complete:disabled,\n",
              "  .colab-df-quickchart-complete:disabled:hover {\n",
              "    background-color: var(--disabled-bg-color);\n",
              "    fill: var(--disabled-fill-color);\n",
              "    box-shadow: none;\n",
              "  }\n",
              "\n",
              "  .colab-df-spinner {\n",
              "    border: 2px solid var(--fill-color);\n",
              "    border-color: transparent;\n",
              "    border-bottom-color: var(--fill-color);\n",
              "    animation:\n",
              "      spin 1s steps(1) infinite;\n",
              "  }\n",
              "\n",
              "  @keyframes spin {\n",
              "    0% {\n",
              "      border-color: transparent;\n",
              "      border-bottom-color: var(--fill-color);\n",
              "      border-left-color: var(--fill-color);\n",
              "    }\n",
              "    20% {\n",
              "      border-color: transparent;\n",
              "      border-left-color: var(--fill-color);\n",
              "      border-top-color: var(--fill-color);\n",
              "    }\n",
              "    30% {\n",
              "      border-color: transparent;\n",
              "      border-left-color: var(--fill-color);\n",
              "      border-top-color: var(--fill-color);\n",
              "      border-right-color: var(--fill-color);\n",
              "    }\n",
              "    40% {\n",
              "      border-color: transparent;\n",
              "      border-right-color: var(--fill-color);\n",
              "      border-top-color: var(--fill-color);\n",
              "    }\n",
              "    60% {\n",
              "      border-color: transparent;\n",
              "      border-right-color: var(--fill-color);\n",
              "    }\n",
              "    80% {\n",
              "      border-color: transparent;\n",
              "      border-right-color: var(--fill-color);\n",
              "      border-bottom-color: var(--fill-color);\n",
              "    }\n",
              "    90% {\n",
              "      border-color: transparent;\n",
              "      border-bottom-color: var(--fill-color);\n",
              "    }\n",
              "  }\n",
              "</style>\n",
              "\n",
              "  <script>\n",
              "    async function quickchart(key) {\n",
              "      const quickchartButtonEl =\n",
              "        document.querySelector('#' + key + ' button');\n",
              "      quickchartButtonEl.disabled = true;  // To prevent multiple clicks.\n",
              "      quickchartButtonEl.classList.add('colab-df-spinner');\n",
              "      try {\n",
              "        const charts = await google.colab.kernel.invokeFunction(\n",
              "            'suggestCharts', [key], {});\n",
              "      } catch (error) {\n",
              "        console.error('Error during call to suggestCharts:', error);\n",
              "      }\n",
              "      quickchartButtonEl.classList.remove('colab-df-spinner');\n",
              "      quickchartButtonEl.classList.add('colab-df-quickchart-complete');\n",
              "    }\n",
              "    (() => {\n",
              "      let quickchartButtonEl =\n",
              "        document.querySelector('#df-28edba95-5e8f-4e79-92a6-abb3fc1b4b23 button');\n",
              "      quickchartButtonEl.style.display =\n",
              "        google.colab.kernel.accessAllowed ? 'block' : 'none';\n",
              "    })();\n",
              "  </script>\n",
              "</div>\n",
              "\n",
              "    </div>\n",
              "  </div>\n"
            ],
            "application/vnd.google.colaboratory.intrinsic+json": {
              "type": "dataframe",
              "variable_name": "grouped_data",
              "summary": "{\n  \"name\": \"grouped_data\",\n  \"rows\": 2381,\n  \"fields\": [\n    {\n      \"column\": \"Driver_ID\",\n      \"properties\": {\n        \"dtype\": \"number\",\n        \"std\": 806,\n        \"min\": 1,\n        \"max\": 2788,\n        \"num_unique_values\": 2381,\n        \"samples\": [\n          1663,\n          1264,\n          1618\n        ],\n        \"semantic_type\": \"\",\n        \"description\": \"\"\n      }\n    },\n    {\n      \"column\": \"Age\",\n      \"properties\": {\n        \"dtype\": \"number\",\n        \"std\": 5.983375418284965,\n        \"min\": 21.0,\n        \"max\": 58.0,\n        \"num_unique_values\": 36,\n        \"samples\": [\n          58.0,\n          22.0,\n          47.0\n        ],\n        \"semantic_type\": \"\",\n        \"description\": \"\"\n      }\n    },\n    {\n      \"column\": \"Gender\",\n      \"properties\": {\n        \"dtype\": \"number\",\n        \"std\": 0.49199723212791585,\n        \"min\": 0.0,\n        \"max\": 1.0,\n        \"num_unique_values\": 2,\n        \"samples\": [\n          1.0,\n          0.0\n        ],\n        \"semantic_type\": \"\",\n        \"description\": \"\"\n      }\n    },\n    {\n      \"column\": \"City\",\n      \"properties\": {\n        \"dtype\": \"category\",\n        \"num_unique_values\": 29,\n        \"samples\": [\n          \"C22\",\n          \"C5\"\n        ],\n        \"semantic_type\": \"\",\n        \"description\": \"\"\n      }\n    },\n    {\n      \"column\": \"Education_Level\",\n      \"properties\": {\n        \"dtype\": \"number\",\n        \"std\": 0,\n        \"min\": 0,\n        \"max\": 2,\n        \"num_unique_values\": 3,\n        \"samples\": [\n          2,\n          0\n        ],\n        \"semantic_type\": \"\",\n        \"description\": \"\"\n      }\n    },\n    {\n      \"column\": \"Income\",\n      \"properties\": {\n        \"dtype\": \"number\",\n        \"std\": 28383,\n        \"min\": 10747,\n        \"max\": 188418,\n        \"num_unique_values\": 2339,\n        \"samples\": [\n          58943,\n          96076\n        ],\n        \"semantic_type\": \"\",\n        \"description\": \"\"\n      }\n    },\n    {\n      \"column\": \"Dateofjoining\",\n      \"properties\": {\n        \"dtype\": \"date\",\n        \"min\": \"2013-04-01 00:00:00\",\n        \"max\": \"2020-12-28 00:00:00\",\n        \"num_unique_values\": 869,\n        \"samples\": [\n          \"2019-09-14 00:00:00\",\n          \"2018-01-06 00:00:00\"\n        ],\n        \"semantic_type\": \"\",\n        \"description\": \"\"\n      }\n    },\n    {\n      \"column\": \"LastWorkingDate\",\n      \"properties\": {\n        \"dtype\": \"date\",\n        \"min\": \"2018-12-31 00:00:00\",\n        \"max\": \"2020-12-28 00:00:00\",\n        \"num_unique_values\": 493,\n        \"samples\": [\n          \"2020-05-03 00:00:00\",\n          \"2019-10-01 00:00:00\"\n        ],\n        \"semantic_type\": \"\",\n        \"description\": \"\"\n      }\n    },\n    {\n      \"column\": \"Joining Designation\",\n      \"properties\": {\n        \"dtype\": \"number\",\n        \"std\": 0,\n        \"min\": 1,\n        \"max\": 5,\n        \"num_unique_values\": 5,\n        \"samples\": [\n          2,\n          5\n        ],\n        \"semantic_type\": \"\",\n        \"description\": \"\"\n      }\n    },\n    {\n      \"column\": \"Grade\",\n      \"properties\": {\n        \"dtype\": \"number\",\n        \"std\": 0,\n        \"min\": 1,\n        \"max\": 5,\n        \"num_unique_values\": 5,\n        \"samples\": [\n          2,\n          5\n        ],\n        \"semantic_type\": \"\",\n        \"description\": \"\"\n      }\n    },\n    {\n      \"column\": \"Total Business Value\",\n      \"properties\": {\n        \"dtype\": \"number\",\n        \"std\": 9127115,\n        \"min\": -1385530,\n        \"max\": 95331060,\n        \"num_unique_values\": 1629,\n        \"samples\": [\n          479380,\n          1628780\n        ],\n        \"semantic_type\": \"\",\n        \"description\": \"\"\n      }\n    },\n    {\n      \"column\": \"Quarterly Rating\",\n      \"properties\": {\n        \"dtype\": \"number\",\n        \"std\": 0,\n        \"min\": 1,\n        \"max\": 4,\n        \"num_unique_values\": 4,\n        \"samples\": [\n          1,\n          3\n        ],\n        \"semantic_type\": \"\",\n        \"description\": \"\"\n      }\n    }\n  ]\n}"
            }
          },
          "metadata": {},
          "execution_count": 15
        }
      ]
    },
    {
      "cell_type": "code",
      "source": [
        "grouped_data.shape"
      ],
      "metadata": {
        "colab": {
          "base_uri": "https://localhost:8080/"
        },
        "id": "J0Vqeiw67ELB",
        "outputId": "98cef811-bfa8-4e1f-8c4a-113a591d97d3"
      },
      "execution_count": 16,
      "outputs": [
        {
          "output_type": "execute_result",
          "data": {
            "text/plain": [
              "(2381, 12)"
            ]
          },
          "metadata": {},
          "execution_count": 16
        }
      ]
    },
    {
      "cell_type": "markdown",
      "source": [
        "**Feature Engineering**"
      ],
      "metadata": {
        "id": "nJT5ngnz8zeT"
      }
    },
    {
      "cell_type": "markdown",
      "source": [
        "i)Creating a column which tells whether the quarterly rating has increased for that driver - for those whose quarterly rating has increased we assign the value 1"
      ],
      "metadata": {
        "id": "SS2ngUQR8Tbu"
      }
    },
    {
      "cell_type": "code",
      "source": [
        "first_rating=new_df.groupby('Driver_ID')['Quarterly Rating'].first()\n",
        "last_rating=new_df.groupby('Driver_ID')['Quarterly Rating'].last()\n",
        "compare=(last_rating>first_rating).astype(int)\n",
        "grouped_data['Quarterly Rating Increased']=grouped_data['Driver_ID'].map(compare)"
      ],
      "metadata": {
        "id": "Ry76jmDr_bJM"
      },
      "execution_count": 17,
      "outputs": []
    },
    {
      "cell_type": "code",
      "source": [
        "grouped_data['Quarterly Rating Increased'].value_counts()"
      ],
      "metadata": {
        "colab": {
          "base_uri": "https://localhost:8080/"
        },
        "id": "Zep683jA8l4i",
        "outputId": "2a8ccf4f-7509-4f72-be6f-4a12df0e606e"
      },
      "execution_count": 18,
      "outputs": [
        {
          "output_type": "execute_result",
          "data": {
            "text/plain": [
              "0    2023\n",
              "1     358\n",
              "Name: Quarterly Rating Increased, dtype: int64"
            ]
          },
          "metadata": {},
          "execution_count": 18
        }
      ]
    },
    {
      "cell_type": "markdown",
      "source": [
        "ii)Target variable creation: Create a column called target which tells whether the driver has left the company- driver whose last working day is present will have the value 1"
      ],
      "metadata": {
        "id": "ji5j8d-VGlCp"
      }
    },
    {
      "cell_type": "code",
      "source": [
        "grouped_data['Target'] = grouped_data.groupby('Driver_ID')['LastWorkingDate'].transform(lambda x: 0 if x.isnull().any() else 1)\n"
      ],
      "metadata": {
        "id": "bjkaqZuZIxCv"
      },
      "execution_count": 19,
      "outputs": []
    },
    {
      "cell_type": "code",
      "source": [
        "grouped_data['Target'].value_counts()"
      ],
      "metadata": {
        "colab": {
          "base_uri": "https://localhost:8080/"
        },
        "id": "96FEv8hzGmKp",
        "outputId": "80200173-64c9-42ba-ab52-5ea0731d6361"
      },
      "execution_count": 20,
      "outputs": [
        {
          "output_type": "execute_result",
          "data": {
            "text/plain": [
              "1    1616\n",
              "0     765\n",
              "Name: Target, dtype: int64"
            ]
          },
          "metadata": {},
          "execution_count": 20
        }
      ]
    },
    {
      "cell_type": "markdown",
      "source": [
        "iii)Create a column which tells whether the monthly income has increased for that driver - for those whose monthly income has increased we assign the value 1"
      ],
      "metadata": {
        "id": "WfUu7mdJJgcC"
      }
    },
    {
      "cell_type": "code",
      "source": [
        "first_income=new_df.groupby('Driver_ID')['Income'].first()\n",
        "last_income=new_df.groupby('Driver_ID')['Income'].last()\n",
        "check=(last_income>first_income).astype(int)\n",
        "grouped_data['Income Increased']=grouped_data['Driver_ID'].map(check)\n",
        "grouped_data['Income Increased'].value_counts()"
      ],
      "metadata": {
        "colab": {
          "base_uri": "https://localhost:8080/"
        },
        "id": "cl2YSyr_Jh1r",
        "outputId": "13bc0704-7e27-4b88-eabe-0bd232d57979"
      },
      "execution_count": 21,
      "outputs": [
        {
          "output_type": "execute_result",
          "data": {
            "text/plain": [
              "0    2338\n",
              "1      43\n",
              "Name: Income Increased, dtype: int64"
            ]
          },
          "metadata": {},
          "execution_count": 21
        }
      ]
    },
    {
      "cell_type": "markdown",
      "source": [
        "# **EDA-Exploratory data analysis**"
      ],
      "metadata": {
        "id": "xlBO-asgOgJw"
      }
    },
    {
      "cell_type": "code",
      "source": [
        "grouped_data.describe()"
      ],
      "metadata": {
        "colab": {
          "base_uri": "https://localhost:8080/",
          "height": 355
        },
        "id": "6vTbegp-OneG",
        "outputId": "eeba9624-77e5-41da-acbf-b9fb63fd61b9"
      },
      "execution_count": 22,
      "outputs": [
        {
          "output_type": "execute_result",
          "data": {
            "text/plain": [
              "         Driver_ID          Age       Gender  Education_Level         Income  \\\n",
              "count  2381.000000  2381.000000  2381.000000       2381.00000    2381.000000   \n",
              "mean   1397.559009    33.663167     0.410332          1.00756   59334.157077   \n",
              "std     806.161628     5.983375     0.491997          0.81629   28383.666384   \n",
              "min       1.000000    21.000000     0.000000          0.00000   10747.000000   \n",
              "25%     695.000000    29.000000     0.000000          0.00000   39104.000000   \n",
              "50%    1400.000000    33.000000     0.000000          1.00000   55315.000000   \n",
              "75%    2100.000000    37.000000     1.000000          2.00000   75986.000000   \n",
              "max    2788.000000    58.000000     1.000000          2.00000  188418.000000   \n",
              "\n",
              "       Joining Designation        Grade  Total Business Value  \\\n",
              "count          2381.000000  2381.000000          2.381000e+03   \n",
              "mean              1.820244     2.096598          4.586742e+06   \n",
              "std               0.841433     0.941522          9.127115e+06   \n",
              "min               1.000000     1.000000         -1.385530e+06   \n",
              "25%               1.000000     1.000000          0.000000e+00   \n",
              "50%               2.000000     2.000000          8.176800e+05   \n",
              "75%               2.000000     3.000000          4.173650e+06   \n",
              "max               5.000000     5.000000          9.533106e+07   \n",
              "\n",
              "       Quarterly Rating  Quarterly Rating Increased       Target  \\\n",
              "count       2381.000000                 2381.000000  2381.000000   \n",
              "mean           1.427971                    0.150357     0.678706   \n",
              "std            0.809839                    0.357496     0.467071   \n",
              "min            1.000000                    0.000000     0.000000   \n",
              "25%            1.000000                    0.000000     0.000000   \n",
              "50%            1.000000                    0.000000     1.000000   \n",
              "75%            2.000000                    0.000000     1.000000   \n",
              "max            4.000000                    1.000000     1.000000   \n",
              "\n",
              "       Income Increased  \n",
              "count       2381.000000  \n",
              "mean           0.018060  \n",
              "std            0.133195  \n",
              "min            0.000000  \n",
              "25%            0.000000  \n",
              "50%            0.000000  \n",
              "75%            0.000000  \n",
              "max            1.000000  "
            ],
            "text/html": [
              "\n",
              "  <div id=\"df-ac42d175-ad9e-41c8-9702-d90626a39f60\" class=\"colab-df-container\">\n",
              "    <div>\n",
              "<style scoped>\n",
              "    .dataframe tbody tr th:only-of-type {\n",
              "        vertical-align: middle;\n",
              "    }\n",
              "\n",
              "    .dataframe tbody tr th {\n",
              "        vertical-align: top;\n",
              "    }\n",
              "\n",
              "    .dataframe thead th {\n",
              "        text-align: right;\n",
              "    }\n",
              "</style>\n",
              "<table border=\"1\" class=\"dataframe\">\n",
              "  <thead>\n",
              "    <tr style=\"text-align: right;\">\n",
              "      <th></th>\n",
              "      <th>Driver_ID</th>\n",
              "      <th>Age</th>\n",
              "      <th>Gender</th>\n",
              "      <th>Education_Level</th>\n",
              "      <th>Income</th>\n",
              "      <th>Joining Designation</th>\n",
              "      <th>Grade</th>\n",
              "      <th>Total Business Value</th>\n",
              "      <th>Quarterly Rating</th>\n",
              "      <th>Quarterly Rating Increased</th>\n",
              "      <th>Target</th>\n",
              "      <th>Income Increased</th>\n",
              "    </tr>\n",
              "  </thead>\n",
              "  <tbody>\n",
              "    <tr>\n",
              "      <th>count</th>\n",
              "      <td>2381.000000</td>\n",
              "      <td>2381.000000</td>\n",
              "      <td>2381.000000</td>\n",
              "      <td>2381.00000</td>\n",
              "      <td>2381.000000</td>\n",
              "      <td>2381.000000</td>\n",
              "      <td>2381.000000</td>\n",
              "      <td>2.381000e+03</td>\n",
              "      <td>2381.000000</td>\n",
              "      <td>2381.000000</td>\n",
              "      <td>2381.000000</td>\n",
              "      <td>2381.000000</td>\n",
              "    </tr>\n",
              "    <tr>\n",
              "      <th>mean</th>\n",
              "      <td>1397.559009</td>\n",
              "      <td>33.663167</td>\n",
              "      <td>0.410332</td>\n",
              "      <td>1.00756</td>\n",
              "      <td>59334.157077</td>\n",
              "      <td>1.820244</td>\n",
              "      <td>2.096598</td>\n",
              "      <td>4.586742e+06</td>\n",
              "      <td>1.427971</td>\n",
              "      <td>0.150357</td>\n",
              "      <td>0.678706</td>\n",
              "      <td>0.018060</td>\n",
              "    </tr>\n",
              "    <tr>\n",
              "      <th>std</th>\n",
              "      <td>806.161628</td>\n",
              "      <td>5.983375</td>\n",
              "      <td>0.491997</td>\n",
              "      <td>0.81629</td>\n",
              "      <td>28383.666384</td>\n",
              "      <td>0.841433</td>\n",
              "      <td>0.941522</td>\n",
              "      <td>9.127115e+06</td>\n",
              "      <td>0.809839</td>\n",
              "      <td>0.357496</td>\n",
              "      <td>0.467071</td>\n",
              "      <td>0.133195</td>\n",
              "    </tr>\n",
              "    <tr>\n",
              "      <th>min</th>\n",
              "      <td>1.000000</td>\n",
              "      <td>21.000000</td>\n",
              "      <td>0.000000</td>\n",
              "      <td>0.00000</td>\n",
              "      <td>10747.000000</td>\n",
              "      <td>1.000000</td>\n",
              "      <td>1.000000</td>\n",
              "      <td>-1.385530e+06</td>\n",
              "      <td>1.000000</td>\n",
              "      <td>0.000000</td>\n",
              "      <td>0.000000</td>\n",
              "      <td>0.000000</td>\n",
              "    </tr>\n",
              "    <tr>\n",
              "      <th>25%</th>\n",
              "      <td>695.000000</td>\n",
              "      <td>29.000000</td>\n",
              "      <td>0.000000</td>\n",
              "      <td>0.00000</td>\n",
              "      <td>39104.000000</td>\n",
              "      <td>1.000000</td>\n",
              "      <td>1.000000</td>\n",
              "      <td>0.000000e+00</td>\n",
              "      <td>1.000000</td>\n",
              "      <td>0.000000</td>\n",
              "      <td>0.000000</td>\n",
              "      <td>0.000000</td>\n",
              "    </tr>\n",
              "    <tr>\n",
              "      <th>50%</th>\n",
              "      <td>1400.000000</td>\n",
              "      <td>33.000000</td>\n",
              "      <td>0.000000</td>\n",
              "      <td>1.00000</td>\n",
              "      <td>55315.000000</td>\n",
              "      <td>2.000000</td>\n",
              "      <td>2.000000</td>\n",
              "      <td>8.176800e+05</td>\n",
              "      <td>1.000000</td>\n",
              "      <td>0.000000</td>\n",
              "      <td>1.000000</td>\n",
              "      <td>0.000000</td>\n",
              "    </tr>\n",
              "    <tr>\n",
              "      <th>75%</th>\n",
              "      <td>2100.000000</td>\n",
              "      <td>37.000000</td>\n",
              "      <td>1.000000</td>\n",
              "      <td>2.00000</td>\n",
              "      <td>75986.000000</td>\n",
              "      <td>2.000000</td>\n",
              "      <td>3.000000</td>\n",
              "      <td>4.173650e+06</td>\n",
              "      <td>2.000000</td>\n",
              "      <td>0.000000</td>\n",
              "      <td>1.000000</td>\n",
              "      <td>0.000000</td>\n",
              "    </tr>\n",
              "    <tr>\n",
              "      <th>max</th>\n",
              "      <td>2788.000000</td>\n",
              "      <td>58.000000</td>\n",
              "      <td>1.000000</td>\n",
              "      <td>2.00000</td>\n",
              "      <td>188418.000000</td>\n",
              "      <td>5.000000</td>\n",
              "      <td>5.000000</td>\n",
              "      <td>9.533106e+07</td>\n",
              "      <td>4.000000</td>\n",
              "      <td>1.000000</td>\n",
              "      <td>1.000000</td>\n",
              "      <td>1.000000</td>\n",
              "    </tr>\n",
              "  </tbody>\n",
              "</table>\n",
              "</div>\n",
              "    <div class=\"colab-df-buttons\">\n",
              "\n",
              "  <div class=\"colab-df-container\">\n",
              "    <button class=\"colab-df-convert\" onclick=\"convertToInteractive('df-ac42d175-ad9e-41c8-9702-d90626a39f60')\"\n",
              "            title=\"Convert this dataframe to an interactive table.\"\n",
              "            style=\"display:none;\">\n",
              "\n",
              "  <svg xmlns=\"http://www.w3.org/2000/svg\" height=\"24px\" viewBox=\"0 -960 960 960\">\n",
              "    <path d=\"M120-120v-720h720v720H120Zm60-500h600v-160H180v160Zm220 220h160v-160H400v160Zm0 220h160v-160H400v160ZM180-400h160v-160H180v160Zm440 0h160v-160H620v160ZM180-180h160v-160H180v160Zm440 0h160v-160H620v160Z\"/>\n",
              "  </svg>\n",
              "    </button>\n",
              "\n",
              "  <style>\n",
              "    .colab-df-container {\n",
              "      display:flex;\n",
              "      gap: 12px;\n",
              "    }\n",
              "\n",
              "    .colab-df-convert {\n",
              "      background-color: #E8F0FE;\n",
              "      border: none;\n",
              "      border-radius: 50%;\n",
              "      cursor: pointer;\n",
              "      display: none;\n",
              "      fill: #1967D2;\n",
              "      height: 32px;\n",
              "      padding: 0 0 0 0;\n",
              "      width: 32px;\n",
              "    }\n",
              "\n",
              "    .colab-df-convert:hover {\n",
              "      background-color: #E2EBFA;\n",
              "      box-shadow: 0px 1px 2px rgba(60, 64, 67, 0.3), 0px 1px 3px 1px rgba(60, 64, 67, 0.15);\n",
              "      fill: #174EA6;\n",
              "    }\n",
              "\n",
              "    .colab-df-buttons div {\n",
              "      margin-bottom: 4px;\n",
              "    }\n",
              "\n",
              "    [theme=dark] .colab-df-convert {\n",
              "      background-color: #3B4455;\n",
              "      fill: #D2E3FC;\n",
              "    }\n",
              "\n",
              "    [theme=dark] .colab-df-convert:hover {\n",
              "      background-color: #434B5C;\n",
              "      box-shadow: 0px 1px 3px 1px rgba(0, 0, 0, 0.15);\n",
              "      filter: drop-shadow(0px 1px 2px rgba(0, 0, 0, 0.3));\n",
              "      fill: #FFFFFF;\n",
              "    }\n",
              "  </style>\n",
              "\n",
              "    <script>\n",
              "      const buttonEl =\n",
              "        document.querySelector('#df-ac42d175-ad9e-41c8-9702-d90626a39f60 button.colab-df-convert');\n",
              "      buttonEl.style.display =\n",
              "        google.colab.kernel.accessAllowed ? 'block' : 'none';\n",
              "\n",
              "      async function convertToInteractive(key) {\n",
              "        const element = document.querySelector('#df-ac42d175-ad9e-41c8-9702-d90626a39f60');\n",
              "        const dataTable =\n",
              "          await google.colab.kernel.invokeFunction('convertToInteractive',\n",
              "                                                    [key], {});\n",
              "        if (!dataTable) return;\n",
              "\n",
              "        const docLinkHtml = 'Like what you see? Visit the ' +\n",
              "          '<a target=\"_blank\" href=https://colab.research.google.com/notebooks/data_table.ipynb>data table notebook</a>'\n",
              "          + ' to learn more about interactive tables.';\n",
              "        element.innerHTML = '';\n",
              "        dataTable['output_type'] = 'display_data';\n",
              "        await google.colab.output.renderOutput(dataTable, element);\n",
              "        const docLink = document.createElement('div');\n",
              "        docLink.innerHTML = docLinkHtml;\n",
              "        element.appendChild(docLink);\n",
              "      }\n",
              "    </script>\n",
              "  </div>\n",
              "\n",
              "\n",
              "<div id=\"df-37f1643e-159d-407f-a5b0-9df15a39b484\">\n",
              "  <button class=\"colab-df-quickchart\" onclick=\"quickchart('df-37f1643e-159d-407f-a5b0-9df15a39b484')\"\n",
              "            title=\"Suggest charts\"\n",
              "            style=\"display:none;\">\n",
              "\n",
              "<svg xmlns=\"http://www.w3.org/2000/svg\" height=\"24px\"viewBox=\"0 0 24 24\"\n",
              "     width=\"24px\">\n",
              "    <g>\n",
              "        <path d=\"M19 3H5c-1.1 0-2 .9-2 2v14c0 1.1.9 2 2 2h14c1.1 0 2-.9 2-2V5c0-1.1-.9-2-2-2zM9 17H7v-7h2v7zm4 0h-2V7h2v10zm4 0h-2v-4h2v4z\"/>\n",
              "    </g>\n",
              "</svg>\n",
              "  </button>\n",
              "\n",
              "<style>\n",
              "  .colab-df-quickchart {\n",
              "      --bg-color: #E8F0FE;\n",
              "      --fill-color: #1967D2;\n",
              "      --hover-bg-color: #E2EBFA;\n",
              "      --hover-fill-color: #174EA6;\n",
              "      --disabled-fill-color: #AAA;\n",
              "      --disabled-bg-color: #DDD;\n",
              "  }\n",
              "\n",
              "  [theme=dark] .colab-df-quickchart {\n",
              "      --bg-color: #3B4455;\n",
              "      --fill-color: #D2E3FC;\n",
              "      --hover-bg-color: #434B5C;\n",
              "      --hover-fill-color: #FFFFFF;\n",
              "      --disabled-bg-color: #3B4455;\n",
              "      --disabled-fill-color: #666;\n",
              "  }\n",
              "\n",
              "  .colab-df-quickchart {\n",
              "    background-color: var(--bg-color);\n",
              "    border: none;\n",
              "    border-radius: 50%;\n",
              "    cursor: pointer;\n",
              "    display: none;\n",
              "    fill: var(--fill-color);\n",
              "    height: 32px;\n",
              "    padding: 0;\n",
              "    width: 32px;\n",
              "  }\n",
              "\n",
              "  .colab-df-quickchart:hover {\n",
              "    background-color: var(--hover-bg-color);\n",
              "    box-shadow: 0 1px 2px rgba(60, 64, 67, 0.3), 0 1px 3px 1px rgba(60, 64, 67, 0.15);\n",
              "    fill: var(--button-hover-fill-color);\n",
              "  }\n",
              "\n",
              "  .colab-df-quickchart-complete:disabled,\n",
              "  .colab-df-quickchart-complete:disabled:hover {\n",
              "    background-color: var(--disabled-bg-color);\n",
              "    fill: var(--disabled-fill-color);\n",
              "    box-shadow: none;\n",
              "  }\n",
              "\n",
              "  .colab-df-spinner {\n",
              "    border: 2px solid var(--fill-color);\n",
              "    border-color: transparent;\n",
              "    border-bottom-color: var(--fill-color);\n",
              "    animation:\n",
              "      spin 1s steps(1) infinite;\n",
              "  }\n",
              "\n",
              "  @keyframes spin {\n",
              "    0% {\n",
              "      border-color: transparent;\n",
              "      border-bottom-color: var(--fill-color);\n",
              "      border-left-color: var(--fill-color);\n",
              "    }\n",
              "    20% {\n",
              "      border-color: transparent;\n",
              "      border-left-color: var(--fill-color);\n",
              "      border-top-color: var(--fill-color);\n",
              "    }\n",
              "    30% {\n",
              "      border-color: transparent;\n",
              "      border-left-color: var(--fill-color);\n",
              "      border-top-color: var(--fill-color);\n",
              "      border-right-color: var(--fill-color);\n",
              "    }\n",
              "    40% {\n",
              "      border-color: transparent;\n",
              "      border-right-color: var(--fill-color);\n",
              "      border-top-color: var(--fill-color);\n",
              "    }\n",
              "    60% {\n",
              "      border-color: transparent;\n",
              "      border-right-color: var(--fill-color);\n",
              "    }\n",
              "    80% {\n",
              "      border-color: transparent;\n",
              "      border-right-color: var(--fill-color);\n",
              "      border-bottom-color: var(--fill-color);\n",
              "    }\n",
              "    90% {\n",
              "      border-color: transparent;\n",
              "      border-bottom-color: var(--fill-color);\n",
              "    }\n",
              "  }\n",
              "</style>\n",
              "\n",
              "  <script>\n",
              "    async function quickchart(key) {\n",
              "      const quickchartButtonEl =\n",
              "        document.querySelector('#' + key + ' button');\n",
              "      quickchartButtonEl.disabled = true;  // To prevent multiple clicks.\n",
              "      quickchartButtonEl.classList.add('colab-df-spinner');\n",
              "      try {\n",
              "        const charts = await google.colab.kernel.invokeFunction(\n",
              "            'suggestCharts', [key], {});\n",
              "      } catch (error) {\n",
              "        console.error('Error during call to suggestCharts:', error);\n",
              "      }\n",
              "      quickchartButtonEl.classList.remove('colab-df-spinner');\n",
              "      quickchartButtonEl.classList.add('colab-df-quickchart-complete');\n",
              "    }\n",
              "    (() => {\n",
              "      let quickchartButtonEl =\n",
              "        document.querySelector('#df-37f1643e-159d-407f-a5b0-9df15a39b484 button');\n",
              "      quickchartButtonEl.style.display =\n",
              "        google.colab.kernel.accessAllowed ? 'block' : 'none';\n",
              "    })();\n",
              "  </script>\n",
              "</div>\n",
              "\n",
              "    </div>\n",
              "  </div>\n"
            ],
            "application/vnd.google.colaboratory.intrinsic+json": {
              "type": "dataframe",
              "summary": "{\n  \"name\": \"grouped_data\",\n  \"rows\": 8,\n  \"fields\": [\n    {\n      \"column\": \"Driver_ID\",\n      \"properties\": {\n        \"dtype\": \"number\",\n        \"std\": 938.7519531327149,\n        \"min\": 1.0,\n        \"max\": 2788.0,\n        \"num_unique_values\": 8,\n        \"samples\": [\n          1397.5590088198237,\n          1400.0,\n          2381.0\n        ],\n        \"semantic_type\": \"\",\n        \"description\": \"\"\n      }\n    },\n    {\n      \"column\": \"Age\",\n      \"properties\": {\n        \"dtype\": \"number\",\n        \"std\": 830.9472673826112,\n        \"min\": 5.983375418284965,\n        \"max\": 2381.0,\n        \"num_unique_values\": 8,\n        \"samples\": [\n          33.66316673666527,\n          33.0,\n          2381.0\n        ],\n        \"semantic_type\": \"\",\n        \"description\": \"\"\n      }\n    },\n    {\n      \"column\": \"Gender\",\n      \"properties\": {\n        \"dtype\": \"number\",\n        \"std\": 841.6641356895119,\n        \"min\": 0.0,\n        \"max\": 2381.0,\n        \"num_unique_values\": 5,\n        \"samples\": [\n          0.4103317933641327,\n          1.0,\n          0.49199723212791585\n        ],\n        \"semantic_type\": \"\",\n        \"description\": \"\"\n      }\n    },\n    {\n      \"column\": \"Education_Level\",\n      \"properties\": {\n        \"dtype\": \"number\",\n        \"std\": 841.4663085745303,\n        \"min\": 0.0,\n        \"max\": 2381.0,\n        \"num_unique_values\": 6,\n        \"samples\": [\n          2381.0,\n          1.007559848803024,\n          2.0\n        ],\n        \"semantic_type\": \"\",\n        \"description\": \"\"\n      }\n    },\n    {\n      \"column\": \"Income\",\n      \"properties\": {\n        \"dtype\": \"number\",\n        \"std\": 58431.278850436946,\n        \"min\": 2381.0,\n        \"max\": 188418.0,\n        \"num_unique_values\": 8,\n        \"samples\": [\n          59334.157076858464,\n          55315.0,\n          2381.0\n        ],\n        \"semantic_type\": \"\",\n        \"description\": \"\"\n      }\n    },\n    {\n      \"column\": \"Joining Designation\",\n      \"properties\": {\n        \"dtype\": \"number\",\n        \"std\": 841.1216535826273,\n        \"min\": 0.8414334155102955,\n        \"max\": 2381.0,\n        \"num_unique_values\": 6,\n        \"samples\": [\n          2381.0,\n          1.8202435951280975,\n          5.0\n        ],\n        \"semantic_type\": \"\",\n        \"description\": \"\"\n      }\n    },\n    {\n      \"column\": \"Grade\",\n      \"properties\": {\n        \"dtype\": \"number\",\n        \"std\": 841.0521852530111,\n        \"min\": 0.9415217532867907,\n        \"max\": 2381.0,\n        \"num_unique_values\": 7,\n        \"samples\": [\n          2381.0,\n          2.0965980680386394,\n          3.0\n        ],\n        \"semantic_type\": \"\",\n        \"description\": \"\"\n      }\n    },\n    {\n      \"column\": \"Total Business Value\",\n      \"properties\": {\n        \"dtype\": \"number\",\n        \"std\": 33006538.365713853,\n        \"min\": -1385530.0,\n        \"max\": 95331060.0,\n        \"num_unique_values\": 8,\n        \"samples\": [\n          4586741.8227635445,\n          817680.0,\n          2381.0\n        ],\n        \"semantic_type\": \"\",\n        \"description\": \"\"\n      }\n    },\n    {\n      \"column\": \"Quarterly Rating\",\n      \"properties\": {\n        \"dtype\": \"number\",\n        \"std\": 841.2436777313815,\n        \"min\": 0.8098389460329426,\n        \"max\": 2381.0,\n        \"num_unique_values\": 6,\n        \"samples\": [\n          2381.0,\n          1.4279714405711885,\n          4.0\n        ],\n        \"semantic_type\": \"\",\n        \"description\": \"\"\n      }\n    },\n    {\n      \"column\": \"Quarterly Rating Increased\",\n      \"properties\": {\n        \"dtype\": \"number\",\n        \"std\": 841.7345349819684,\n        \"min\": 0.0,\n        \"max\": 2381.0,\n        \"num_unique_values\": 5,\n        \"samples\": [\n          0.15035699286014279,\n          1.0,\n          0.3574960754065999\n        ],\n        \"semantic_type\": \"\",\n        \"description\": \"\"\n      }\n    },\n    {\n      \"column\": \"Target\",\n      \"properties\": {\n        \"dtype\": \"number\",\n        \"std\": 841.6013334410778,\n        \"min\": 0.0,\n        \"max\": 2381.0,\n        \"num_unique_values\": 5,\n        \"samples\": [\n          0.6787064258714826,\n          1.0,\n          0.46707134025463637\n        ],\n        \"semantic_type\": \"\",\n        \"description\": \"\"\n      }\n    },\n    {\n      \"column\": \"Income Increased\",\n      \"properties\": {\n        \"dtype\": \"number\",\n        \"std\": 841.7525461796968,\n        \"min\": 0.0,\n        \"max\": 2381.0,\n        \"num_unique_values\": 5,\n        \"samples\": [\n          0.018059638807223857,\n          1.0,\n          0.13319511739872858\n        ],\n        \"semantic_type\": \"\",\n        \"description\": \"\"\n      }\n    }\n  ]\n}"
            }
          },
          "metadata": {},
          "execution_count": 22
        }
      ]
    },
    {
      "cell_type": "markdown",
      "source": [
        "**Plotting categorical columns against the target variable (churn or not churn).**"
      ],
      "metadata": {
        "id": "lr92gwW8yVzs"
      }
    },
    {
      "cell_type": "code",
      "source": [
        "import math\n",
        "import matplotlib.pyplot as plt\n",
        "import seaborn as sns\n",
        "\n",
        "# Categorical columns and target column\n",
        "categorical_columns = ['Gender', 'Education_Level', 'Joining Designation', 'Grade', 'Quarterly Rating Increased', 'Income Increased']\n",
        "target_column = 'Target'\n",
        "\n",
        "# Determine number of rows needed\n",
        "num_plots = len(categorical_columns)\n",
        "num_cols = 3\n",
        "num_rows = math.ceil(num_plots / num_cols)\n",
        "\n",
        "# Create subplots\n",
        "fig, axes = plt.subplots(num_rows, num_cols, figsize=(14, 6))\n",
        "\n",
        "# Flatten the axes array to iterate over them properly\n",
        "axes = axes.flatten()\n",
        "\n",
        "# Loop through each categorical column\n",
        "for i, column in enumerate(categorical_columns):\n",
        "    # Create a bar plot\n",
        "    sns.countplot(x=column, hue=target_column, data=grouped_data, palette='dark:salmon', ax=axes[i])\n",
        "    axes[i].set_title(f'{column} vs. {target_column}')\n",
        "    axes[i].set_xlabel(column)\n",
        "    axes[i].set_ylabel('Count')\n",
        "\n",
        "    # Check if legend exists for the current plot\n",
        "    handles, labels = axes[i].get_legend_handles_labels()\n",
        "    if handles:\n",
        "        axes[i].legend(title=target_column)\n",
        "\n",
        "plt.tight_layout()\n",
        "plt.show()"
      ],
      "metadata": {
        "colab": {
          "base_uri": "https://localhost:8080/",
          "height": 508
        },
        "id": "eDWJQeFg9wxP",
        "outputId": "aa951a06-19fd-42f6-bf92-ac9ba259b40a"
      },
      "execution_count": 39,
      "outputs": [
        {
          "output_type": "display_data",
          "data": {
            "text/plain": [
              "<Figure size 1400x600 with 6 Axes>"
            ],
            "image/png": "[encoded data removed]"
          },
          "metadata": {}
        }
      ]
    },
    {
      "cell_type": "markdown",
      "source": [
        "**Insights from the plots:**\n",
        "\n",
        "**1)Gender:**\n",
        "      -The countplot indicates that males have a higher churn rate compared to females.\n",
        "\n",
        "**2)Education Level:**\n",
        "     -Regarding education levels, there appears to be no significant difference in churn rates among different education levels. Whether it's 10+, 12+, or graduate, the churn rates seem to be relatively equal.\n",
        "\n",
        "**3)Joining Designations:**\n",
        "     -Joining designations 1, 2, and 3 show higher churn rates, suggesting that employees with these designations are more likely to leave.\n",
        "\n",
        "**4)Grades:**\n",
        "     -When examining grades, employees with grades 1, 2, and 3 tend to have higher churn rates, while grades 4 and 5 have relatively lower churn rates, indicating a potential correlation between lower grades and higher churn.\n",
        "\n",
        "**5)Quarterly Rating Increased:**\n",
        "     -Quarterly rating changes provide insight into churn rates. Employees with increased ratings (1) tend to have lower churn rates, while those with unchanged ratings (0) exhibit higher churn rates. This suggests that positive changes in quarterly ratings may be associated with lower churn rates.\n",
        "\n",
        "**6)Income Increased:**\n",
        "     -Employees whose income increased show lower churn rates, whereas those whose income remained unchanged exhibit higher churn rates.\n",
        "\n",
        "\n"
      ],
      "metadata": {
        "id": "Ru9BWj18xyTm"
      }
    },
    {
      "cell_type": "markdown",
      "source": [
        "**Plotting numerical columns against the target variable (churn or not churn)**"
      ],
      "metadata": {
        "id": "C1i7vC-M26i1"
      }
    },
    {
      "cell_type": "code",
      "source": [
        "# Plotting numerical columns against the target column\n",
        "numerical_columns = ['Age', 'Income', 'Total Business Value']\n",
        "target_column = 'Target'\n",
        "\n",
        "plt.figure(figsize=(15, 4))\n",
        "\n",
        "for i, column in enumerate(numerical_columns, 1):\n",
        "    plt.subplot(1, 3, i)\n",
        "    sns.histplot(data=grouped_data, x=column, hue=target_column, palette='magma')\n",
        "    plt.title(f'{column} vs. {target_column}')\n",
        "    plt.xlabel(column)\n",
        "    plt.ylabel('Count')\n",
        "plt.tight_layout()\n",
        "plt.show()"
      ],
      "metadata": {
        "colab": {
          "base_uri": "https://localhost:8080/",
          "height": 320
        },
        "id": "ahTK2fa7yKrn",
        "outputId": "11d74748-08fd-4351-9551-c16d6e38f86d"
      },
      "execution_count": 23,
      "outputs": [
        {
          "output_type": "display_data",
          "data": {
            "text/plain": [
              "<Figure size 1500x400 with 3 Axes>"
            ],
            "image/png": "[encoded data removed]"
          },
          "metadata": {}
        }
      ]
    },
    {
      "cell_type": "markdown",
      "source": [
        "**Insights from the plots:**\n",
        "\n",
        "1. **Age:**\n",
        "    - There appears to be a higher churn rate among younger drivers (age group 20-30).\n",
        "    - Older drivers (age group 50+) have a relatively lower churn rate.\n",
        "\n",
        "2. **Income:**\n",
        "    - Drivers with lower income (below 25k) have a higher churn rate.\n",
        "    - Drivers with higher income (above 50k) have a lower churn rate.\n",
        "\n",
        "3. **Total Business Value:**\n",
        "    - Drivers with lower total business value (below 200k) have a higher churn rate.\n",
        "    - Drivers with higher total business value (above 400k) have a lower churn rate."
      ],
      "metadata": {
        "id": "wdW31LNT69wH"
      }
    },
    {
      "cell_type": "code",
      "source": [
        "#dropping unnecessary columns\n",
        "grouped_data.drop(['Driver_ID','Dateofjoining','LastWorkingDate'],axis=1,inplace=True)"
      ],
      "metadata": {
        "id": "MVx5SXT0qFd0"
      },
      "execution_count": 24,
      "outputs": []
    },
    {
      "cell_type": "markdown",
      "source": [
        "**Correlation between independent variables**"
      ],
      "metadata": {
        "id": "GfT9A2iyq62V"
      }
    },
    {
      "cell_type": "code",
      "source": [
        "sns.heatmap(data=grouped_data.corr(numeric_only=True), cmap='viridis', annot=True, fmt=\".2f\", linewidths=.5)\n",
        "# Add labels and title\n",
        "plt.title('Correlation Among Independent Variables')\n",
        "plt.xlabel('X-axis Label')\n",
        "plt.ylabel('Y-axis Label')\n",
        "\n",
        "# Show the plot\n",
        "plt.show()"
      ],
      "metadata": {
        "colab": {
          "base_uri": "https://localhost:8080/",
          "height": 645
        },
        "id": "YFuJDj5ekULg",
        "outputId": "71f18a63-011d-4a40-8c69-ec0c99368307"
      },
      "execution_count": 25,
      "outputs": [
        {
          "output_type": "display_data",
          "data": {
            "text/plain": [
              "<Figure size 640x480 with 2 Axes>"
            ],
            "image/png": "[encoded data removed]"
          },
          "metadata": {}
        }
      ]
    },
    {
      "cell_type": "markdown",
      "source": [
        "--There is a strong correlation between the \"Grade\" and \"Income\" variables.\n",
        "\n",
        "--The \"Joining Designation\" and \"Grade\" exhibit a significant level of correlation.\n",
        "\n",
        "--\"Total Business Value\" and \"Income\" are positively correlated"
      ],
      "metadata": {
        "id": "5SBfsK_TngAU"
      }
    },
    {
      "cell_type": "markdown",
      "source": [
        "**ONE HOT ENCODING**"
      ],
      "metadata": {
        "id": "lt1tXOzirEwY"
      }
    },
    {
      "cell_type": "code",
      "source": [
        "grouped_data = pd.get_dummies(grouped_data, columns=['City'])\n",
        "grouped_data.head()"
      ],
      "metadata": {
        "colab": {
          "base_uri": "https://localhost:8080/",
          "height": 290
        },
        "id": "srcOqI5nrHka",
        "outputId": "443e1253-c6fb-48fb-ecf9-172bfd982a22"
      },
      "execution_count": 26,
      "outputs": [
        {
          "output_type": "execute_result",
          "data": {
            "text/plain": [
              "    Age  Gender  Education_Level  Income  Joining Designation  Grade  \\\n",
              "0  28.0     0.0                2   57387                    1      1   \n",
              "1  31.0     0.0                2   67016                    2      2   \n",
              "2  43.0     0.0                2   65603                    2      2   \n",
              "3  29.0     0.0                0   46368                    1      1   \n",
              "4  31.0     1.0                1   78728                    3      3   \n",
              "\n",
              "   Total Business Value  Quarterly Rating  Quarterly Rating Increased  Target  \\\n",
              "0               1715580                 2                           0       1   \n",
              "1                     0                 1                           0       0   \n",
              "2                350000                 1                           0       1   \n",
              "3                120360                 1                           0       1   \n",
              "4               1265000                 2                           1       0   \n",
              "\n",
              "   ...  City_C27  City_C28  City_C29  City_C3  City_C4  City_C5  City_C6  \\\n",
              "0  ...         0         0         0        0        0        0        0   \n",
              "1  ...         0         0         0        0        0        0        0   \n",
              "2  ...         0         0         0        0        0        0        0   \n",
              "3  ...         0         0         0        0        0        0        0   \n",
              "4  ...         0         0         0        0        0        0        0   \n",
              "\n",
              "   City_C7  City_C8  City_C9  \n",
              "0        0        0        0  \n",
              "1        1        0        0  \n",
              "2        0        0        0  \n",
              "3        0        0        1  \n",
              "4        0        0        0  \n",
              "\n",
              "[5 rows x 40 columns]"
            ],
            "text/html": [
              "\n",
              "  <div id=\"df-4d81bc6e-a87d-44ca-adee-c9086462bf04\" class=\"colab-df-container\">\n",
              "    <div>\n",
              "<style scoped>\n",
              "    .dataframe tbody tr th:only-of-type {\n",
              "        vertical-align: middle;\n",
              "    }\n",
              "\n",
              "    .dataframe tbody tr th {\n",
              "        vertical-align: top;\n",
              "    }\n",
              "\n",
              "    .dataframe thead th {\n",
              "        text-align: right;\n",
              "    }\n",
              "</style>\n",
              "<table border=\"1\" class=\"dataframe\">\n",
              "  <thead>\n",
              "    <tr style=\"text-align: right;\">\n",
              "      <th></th>\n",
              "      <th>Age</th>\n",
              "      <th>Gender</th>\n",
              "      <th>Education_Level</th>\n",
              "      <th>Income</th>\n",
              "      <th>Joining Designation</th>\n",
              "      <th>Grade</th>\n",
              "      <th>Total Business Value</th>\n",
              "      <th>Quarterly Rating</th>\n",
              "      <th>Quarterly Rating Increased</th>\n",
              "      <th>Target</th>\n",
              "      <th>...</th>\n",
              "      <th>City_C27</th>\n",
              "      <th>City_C28</th>\n",
              "      <th>City_C29</th>\n",
              "      <th>City_C3</th>\n",
              "      <th>City_C4</th>\n",
              "      <th>City_C5</th>\n",
              "      <th>City_C6</th>\n",
              "      <th>City_C7</th>\n",
              "      <th>City_C8</th>\n",
              "      <th>City_C9</th>\n",
              "    </tr>\n",
              "  </thead>\n",
              "  <tbody>\n",
              "    <tr>\n",
              "      <th>0</th>\n",
              "      <td>28.0</td>\n",
              "      <td>0.0</td>\n",
              "      <td>2</td>\n",
              "      <td>57387</td>\n",
              "      <td>1</td>\n",
              "      <td>1</td>\n",
              "      <td>1715580</td>\n",
              "      <td>2</td>\n",
              "      <td>0</td>\n",
              "      <td>1</td>\n",
              "      <td>...</td>\n",
              "      <td>0</td>\n",
              "      <td>0</td>\n",
              "      <td>0</td>\n",
              "      <td>0</td>\n",
              "      <td>0</td>\n",
              "      <td>0</td>\n",
              "      <td>0</td>\n",
              "      <td>0</td>\n",
              "      <td>0</td>\n",
              "      <td>0</td>\n",
              "    </tr>\n",
              "    <tr>\n",
              "      <th>1</th>\n",
              "      <td>31.0</td>\n",
              "      <td>0.0</td>\n",
              "      <td>2</td>\n",
              "      <td>67016</td>\n",
              "      <td>2</td>\n",
              "      <td>2</td>\n",
              "      <td>0</td>\n",
              "      <td>1</td>\n",
              "      <td>0</td>\n",
              "      <td>0</td>\n",
              "      <td>...</td>\n",
              "      <td>0</td>\n",
              "      <td>0</td>\n",
              "      <td>0</td>\n",
              "      <td>0</td>\n",
              "      <td>0</td>\n",
              "      <td>0</td>\n",
              "      <td>0</td>\n",
              "      <td>1</td>\n",
              "      <td>0</td>\n",
              "      <td>0</td>\n",
              "    </tr>\n",
              "    <tr>\n",
              "      <th>2</th>\n",
              "      <td>43.0</td>\n",
              "      <td>0.0</td>\n",
              "      <td>2</td>\n",
              "      <td>65603</td>\n",
              "      <td>2</td>\n",
              "      <td>2</td>\n",
              "      <td>350000</td>\n",
              "      <td>1</td>\n",
              "      <td>0</td>\n",
              "      <td>1</td>\n",
              "      <td>...</td>\n",
              "      <td>0</td>\n",
              "      <td>0</td>\n",
              "      <td>0</td>\n",
              "      <td>0</td>\n",
              "      <td>0</td>\n",
              "      <td>0</td>\n",
              "      <td>0</td>\n",
              "      <td>0</td>\n",
              "      <td>0</td>\n",
              "      <td>0</td>\n",
              "    </tr>\n",
              "    <tr>\n",
              "      <th>3</th>\n",
              "      <td>29.0</td>\n",
              "      <td>0.0</td>\n",
              "      <td>0</td>\n",
              "      <td>46368</td>\n",
              "      <td>1</td>\n",
              "      <td>1</td>\n",
              "      <td>120360</td>\n",
              "      <td>1</td>\n",
              "      <td>0</td>\n",
              "      <td>1</td>\n",
              "      <td>...</td>\n",
              "      <td>0</td>\n",
              "      <td>0</td>\n",
              "      <td>0</td>\n",
              "      <td>0</td>\n",
              "      <td>0</td>\n",
              "      <td>0</td>\n",
              "      <td>0</td>\n",
              "      <td>0</td>\n",
              "      <td>0</td>\n",
              "      <td>1</td>\n",
              "    </tr>\n",
              "    <tr>\n",
              "      <th>4</th>\n",
              "      <td>31.0</td>\n",
              "      <td>1.0</td>\n",
              "      <td>1</td>\n",
              "      <td>78728</td>\n",
              "      <td>3</td>\n",
              "      <td>3</td>\n",
              "      <td>1265000</td>\n",
              "      <td>2</td>\n",
              "      <td>1</td>\n",
              "      <td>0</td>\n",
              "      <td>...</td>\n",
              "      <td>0</td>\n",
              "      <td>0</td>\n",
              "      <td>0</td>\n",
              "      <td>0</td>\n",
              "      <td>0</td>\n",
              "      <td>0</td>\n",
              "      <td>0</td>\n",
              "      <td>0</td>\n",
              "      <td>0</td>\n",
              "      <td>0</td>\n",
              "    </tr>\n",
              "  </tbody>\n",
              "</table>\n",
              "<p>5 rows × 40 columns</p>\n",
              "</div>\n",
              "    <div class=\"colab-df-buttons\">\n",
              "\n",
              "  <div class=\"colab-df-container\">\n",
              "    <button class=\"colab-df-convert\" onclick=\"convertToInteractive('df-4d81bc6e-a87d-44ca-adee-c9086462bf04')\"\n",
              "            title=\"Convert this dataframe to an interactive table.\"\n",
              "            style=\"display:none;\">\n",
              "\n",
              "  <svg xmlns=\"http://www.w3.org/2000/svg\" height=\"24px\" viewBox=\"0 -960 960 960\">\n",
              "    <path d=\"M120-120v-720h720v720H120Zm60-500h600v-160H180v160Zm220 220h160v-160H400v160Zm0 220h160v-160H400v160ZM180-400h160v-160H180v160Zm440 0h160v-160H620v160ZM180-180h160v-160H180v160Zm440 0h160v-160H620v160Z\"/>\n",
              "  </svg>\n",
              "    </button>\n",
              "\n",
              "  <style>\n",
              "    .colab-df-container {\n",
              "      display:flex;\n",
              "      gap: 12px;\n",
              "    }\n",
              "\n",
              "    .colab-df-convert {\n",
              "      background-color: #E8F0FE;\n",
              "      border: none;\n",
              "      border-radius: 50%;\n",
              "      cursor: pointer;\n",
              "      display: none;\n",
              "      fill: #1967D2;\n",
              "      height: 32px;\n",
              "      padding: 0 0 0 0;\n",
              "      width: 32px;\n",
              "    }\n",
              "\n",
              "    .colab-df-convert:hover {\n",
              "      background-color: #E2EBFA;\n",
              "      box-shadow: 0px 1px 2px rgba(60, 64, 67, 0.3), 0px 1px 3px 1px rgba(60, 64, 67, 0.15);\n",
              "      fill: #174EA6;\n",
              "    }\n",
              "\n",
              "    .colab-df-buttons div {\n",
              "      margin-bottom: 4px;\n",
              "    }\n",
              "\n",
              "    [theme=dark] .colab-df-convert {\n",
              "      background-color: #3B4455;\n",
              "      fill: #D2E3FC;\n",
              "    }\n",
              "\n",
              "    [theme=dark] .colab-df-convert:hover {\n",
              "      background-color: #434B5C;\n",
              "      box-shadow: 0px 1px 3px 1px rgba(0, 0, 0, 0.15);\n",
              "      filter: drop-shadow(0px 1px 2px rgba(0, 0, 0, 0.3));\n",
              "      fill: #FFFFFF;\n",
              "    }\n",
              "  </style>\n",
              "\n",
              "    <script>\n",
              "      const buttonEl =\n",
              "        document.querySelector('#df-4d81bc6e-a87d-44ca-adee-c9086462bf04 button.colab-df-convert');\n",
              "      buttonEl.style.display =\n",
              "        google.colab.kernel.accessAllowed ? 'block' : 'none';\n",
              "\n",
              "      async function convertToInteractive(key) {\n",
              "        const element = document.querySelector('#df-4d81bc6e-a87d-44ca-adee-c9086462bf04');\n",
              "        const dataTable =\n",
              "          await google.colab.kernel.invokeFunction('convertToInteractive',\n",
              "                                                    [key], {});\n",
              "        if (!dataTable) return;\n",
              "\n",
              "        const docLinkHtml = 'Like what you see? Visit the ' +\n",
              "          '<a target=\"_blank\" href=https://colab.research.google.com/notebooks/data_table.ipynb>data table notebook</a>'\n",
              "          + ' to learn more about interactive tables.';\n",
              "        element.innerHTML = '';\n",
              "        dataTable['output_type'] = 'display_data';\n",
              "        await google.colab.output.renderOutput(dataTable, element);\n",
              "        const docLink = document.createElement('div');\n",
              "        docLink.innerHTML = docLinkHtml;\n",
              "        element.appendChild(docLink);\n",
              "      }\n",
              "    </script>\n",
              "  </div>\n",
              "\n",
              "\n",
              "<div id=\"df-c6720df0-9d56-41f3-b165-0aeef050cea6\">\n",
              "  <button class=\"colab-df-quickchart\" onclick=\"quickchart('df-c6720df0-9d56-41f3-b165-0aeef050cea6')\"\n",
              "            title=\"Suggest charts\"\n",
              "            style=\"display:none;\">\n",
              "\n",
              "<svg xmlns=\"http://www.w3.org/2000/svg\" height=\"24px\"viewBox=\"0 0 24 24\"\n",
              "     width=\"24px\">\n",
              "    <g>\n",
              "        <path d=\"M19 3H5c-1.1 0-2 .9-2 2v14c0 1.1.9 2 2 2h14c1.1 0 2-.9 2-2V5c0-1.1-.9-2-2-2zM9 17H7v-7h2v7zm4 0h-2V7h2v10zm4 0h-2v-4h2v4z\"/>\n",
              "    </g>\n",
              "</svg>\n",
              "  </button>\n",
              "\n",
              "<style>\n",
              "  .colab-df-quickchart {\n",
              "      --bg-color: #E8F0FE;\n",
              "      --fill-color: #1967D2;\n",
              "      --hover-bg-color: #E2EBFA;\n",
              "      --hover-fill-color: #174EA6;\n",
              "      --disabled-fill-color: #AAA;\n",
              "      --disabled-bg-color: #DDD;\n",
              "  }\n",
              "\n",
              "  [theme=dark] .colab-df-quickchart {\n",
              "      --bg-color: #3B4455;\n",
              "      --fill-color: #D2E3FC;\n",
              "      --hover-bg-color: #434B5C;\n",
              "      --hover-fill-color: #FFFFFF;\n",
              "      --disabled-bg-color: #3B4455;\n",
              "      --disabled-fill-color: #666;\n",
              "  }\n",
              "\n",
              "  .colab-df-quickchart {\n",
              "    background-color: var(--bg-color);\n",
              "    border: none;\n",
              "    border-radius: 50%;\n",
              "    cursor: pointer;\n",
              "    display: none;\n",
              "    fill: var(--fill-color);\n",
              "    height: 32px;\n",
              "    padding: 0;\n",
              "    width: 32px;\n",
              "  }\n",
              "\n",
              "  .colab-df-quickchart:hover {\n",
              "    background-color: var(--hover-bg-color);\n",
              "    box-shadow: 0 1px 2px rgba(60, 64, 67, 0.3), 0 1px 3px 1px rgba(60, 64, 67, 0.15);\n",
              "    fill: var(--button-hover-fill-color);\n",
              "  }\n",
              "\n",
              "  .colab-df-quickchart-complete:disabled,\n",
              "  .colab-df-quickchart-complete:disabled:hover {\n",
              "    background-color: var(--disabled-bg-color);\n",
              "    fill: var(--disabled-fill-color);\n",
              "    box-shadow: none;\n",
              "  }\n",
              "\n",
              "  .colab-df-spinner {\n",
              "    border: 2px solid var(--fill-color);\n",
              "    border-color: transparent;\n",
              "    border-bottom-color: var(--fill-color);\n",
              "    animation:\n",
              "      spin 1s steps(1) infinite;\n",
              "  }\n",
              "\n",
              "  @keyframes spin {\n",
              "    0% {\n",
              "      border-color: transparent;\n",
              "      border-bottom-color: var(--fill-color);\n",
              "      border-left-color: var(--fill-color);\n",
              "    }\n",
              "    20% {\n",
              "      border-color: transparent;\n",
              "      border-left-color: var(--fill-color);\n",
              "      border-top-color: var(--fill-color);\n",
              "    }\n",
              "    30% {\n",
              "      border-color: transparent;\n",
              "      border-left-color: var(--fill-color);\n",
              "      border-top-color: var(--fill-color);\n",
              "      border-right-color: var(--fill-color);\n",
              "    }\n",
              "    40% {\n",
              "      border-color: transparent;\n",
              "      border-right-color: var(--fill-color);\n",
              "      border-top-color: var(--fill-color);\n",
              "    }\n",
              "    60% {\n",
              "      border-color: transparent;\n",
              "      border-right-color: var(--fill-color);\n",
              "    }\n",
              "    80% {\n",
              "      border-color: transparent;\n",
              "      border-right-color: var(--fill-color);\n",
              "      border-bottom-color: var(--fill-color);\n",
              "    }\n",
              "    90% {\n",
              "      border-color: transparent;\n",
              "      border-bottom-color: var(--fill-color);\n",
              "    }\n",
              "  }\n",
              "</style>\n",
              "\n",
              "  <script>\n",
              "    async function quickchart(key) {\n",
              "      const quickchartButtonEl =\n",
              "        document.querySelector('#' + key + ' button');\n",
              "      quickchartButtonEl.disabled = true;  // To prevent multiple clicks.\n",
              "      quickchartButtonEl.classList.add('colab-df-spinner');\n",
              "      try {\n",
              "        const charts = await google.colab.kernel.invokeFunction(\n",
              "            'suggestCharts', [key], {});\n",
              "      } catch (error) {\n",
              "        console.error('Error during call to suggestCharts:', error);\n",
              "      }\n",
              "      quickchartButtonEl.classList.remove('colab-df-spinner');\n",
              "      quickchartButtonEl.classList.add('colab-df-quickchart-complete');\n",
              "    }\n",
              "    (() => {\n",
              "      let quickchartButtonEl =\n",
              "        document.querySelector('#df-c6720df0-9d56-41f3-b165-0aeef050cea6 button');\n",
              "      quickchartButtonEl.style.display =\n",
              "        google.colab.kernel.accessAllowed ? 'block' : 'none';\n",
              "    })();\n",
              "  </script>\n",
              "</div>\n",
              "\n",
              "    </div>\n",
              "  </div>\n"
            ],
            "application/vnd.google.colaboratory.intrinsic+json": {
              "type": "dataframe",
              "variable_name": "grouped_data"
            }
          },
          "metadata": {},
          "execution_count": 26
        }
      ]
    },
    {
      "cell_type": "markdown",
      "source": [
        "# **MODEL BUILDING**"
      ],
      "metadata": {
        "id": "hken4nxquBVj"
      }
    },
    {
      "cell_type": "code",
      "source": [
        "#Extracting dependent and independent columns\n",
        "X=grouped_data.drop('Target',axis=1)\n",
        "y=grouped_data['Target']"
      ],
      "metadata": {
        "id": "lTYSCUB1uEtp"
      },
      "execution_count": 27,
      "outputs": []
    },
    {
      "cell_type": "code",
      "source": [
        "#splitting the data\n",
        "from sklearn.model_selection import train_test_split\n",
        "X_train,X_test,y_train,y_test=train_test_split(X,y,test_size=0.2,random_state=10)\n",
        "print('X_train shape:',X_train.shape)\n",
        "print('X_test shape:',X_test.shape)\n",
        "print('y_train shape:',y_train.shape)"
      ],
      "metadata": {
        "colab": {
          "base_uri": "https://localhost:8080/"
        },
        "id": "fdMZHhbXyImY",
        "outputId": "7bddf93e-157b-43fc-ecad-38ce40441ba7"
      },
      "execution_count": 28,
      "outputs": [
        {
          "output_type": "stream",
          "name": "stdout",
          "text": [
            "X_train shape: (1904, 39)\n",
            "X_test shape: (477, 39)\n",
            "y_train shape: (1904,)\n"
          ]
        }
      ]
    },
    {
      "cell_type": "markdown",
      "source": [
        "**Standardization of training data**"
      ],
      "metadata": {
        "id": "kTYekiRrvLTA"
      }
    },
    {
      "cell_type": "code",
      "source": [
        "from sklearn.preprocessing import StandardScaler\n",
        "scaler=StandardScaler()\n",
        "X=scaler.fit_transform(X_train)"
      ],
      "metadata": {
        "id": "kH4FGwEfwC8w"
      },
      "execution_count": 29,
      "outputs": []
    },
    {
      "cell_type": "markdown",
      "source": [
        "**Class Imbalance Treatment-SMOTE Technique**"
      ],
      "metadata": {
        "id": "nGiZ8aUH0QWI"
      }
    },
    {
      "cell_type": "code",
      "source": [
        "#checking whether target variable is balanced or not\n",
        "plt.figure(figsize=(6,3))\n",
        "ax = sns.countplot(x='Target',data=grouped_data,color='Olive')\n",
        "\n",
        "# Annotate each bar with the count at the top\n",
        "for p in ax.patches:\n",
        "    ax.annotate(f'{p.get_height()}', (p.get_x() + p.get_width() / 2., p.get_height()),\n",
        "                ha='center', va='center', xytext=(0, 10), textcoords='offset points')\n",
        "\n",
        "# Add labels and title\n",
        "plt.xlabel('Target Variable')\n",
        "plt.ylabel('Count')\n",
        "plt.title('Countplot of Target Variable')\n",
        "plt.tight_layout()\n",
        "plt.show()"
      ],
      "metadata": {
        "colab": {
          "base_uri": "https://localhost:8080/",
          "height": 307
        },
        "id": "JwAfAND70WZK",
        "outputId": "c2db84d4-b14f-421c-c097-1f899d5b8be5"
      },
      "execution_count": 30,
      "outputs": [
        {
          "output_type": "display_data",
          "data": {
            "text/plain": [
              "<Figure size 600x300 with 1 Axes>"
            ],
            "image/png": "[encoded data removed]"
          },
          "metadata": {}
        }
      ]
    },
    {
      "cell_type": "code",
      "source": [
        "#Balancing target data using smote technique\n",
        "from imblearn.over_sampling import SMOTE\n",
        "smt=SMOTE(random_state=10)\n",
        "X_sm,y_sm=smt.fit_resample(X_train,y_train)\n",
        "X_sm.shape,y_sm.shape"
      ],
      "metadata": {
        "colab": {
          "base_uri": "https://localhost:8080/"
        },
        "id": "14LmhIRN2O0G",
        "outputId": "df3f6d48-36be-4780-f737-dc93b858daeb"
      },
      "execution_count": 31,
      "outputs": [
        {
          "output_type": "execute_result",
          "data": {
            "text/plain": [
              "((2596, 39), (2596,))"
            ]
          },
          "metadata": {},
          "execution_count": 31
        }
      ]
    },
    {
      "cell_type": "code",
      "source": [
        "from collections import Counter\n",
        "Counter(y_sm)"
      ],
      "metadata": {
        "colab": {
          "base_uri": "https://localhost:8080/"
        },
        "id": "iGfMoKHu5rHF",
        "outputId": "f56e57dd-8239-470a-909f-b6a6c26ab2dc"
      },
      "execution_count": 32,
      "outputs": [
        {
          "output_type": "execute_result",
          "data": {
            "text/plain": [
              "Counter({1: 1298, 0: 1298})"
            ]
          },
          "metadata": {},
          "execution_count": 32
        }
      ]
    },
    {
      "cell_type": "markdown",
      "source": [
        "# **Bagging-Random Forest**"
      ],
      "metadata": {
        "id": "CaU85OiZ6KoD"
      }
    },
    {
      "cell_type": "code",
      "source": [
        "from sklearn.ensemble import RandomForestClassifier\n",
        "model=RandomForestClassifier()\n",
        "model.fit(X_sm,y_sm)\n",
        "model.score(X_test,y_test)"
      ],
      "metadata": {
        "colab": {
          "base_uri": "https://localhost:8080/"
        },
        "id": "1_5X8N0k6KGc",
        "outputId": "fc61487f-34e2-4e11-8540-c3570c37c330"
      },
      "execution_count": 33,
      "outputs": [
        {
          "output_type": "execute_result",
          "data": {
            "text/plain": [
              "0.7756813417190775"
            ]
          },
          "metadata": {},
          "execution_count": 33
        }
      ]
    },
    {
      "cell_type": "markdown",
      "source": [
        "**Hyperparameter tuning -Grid search cv**"
      ],
      "metadata": {
        "id": "hNUY-TLw-lVS"
      }
    },
    {
      "cell_type": "code",
      "source": [
        "# Defining parameters -\n",
        "params = {\n",
        "          'n_estimators' : [100,200,300,400],\n",
        "          'max_depth' : [3,5,10],\n",
        "          'criterion' : ['gini', 'entropy'],\n",
        "          'bootstrap' : [True, False],\n",
        "          'max_features' : [8,9,10]\n",
        "         }\n",
        "\n",
        "from sklearn.model_selection import GridSearchCV\n",
        "\n",
        "grid = GridSearchCV(estimator = RandomForestClassifier(),\n",
        "                    param_grid = params,\n",
        "                    scoring = 'f1',\n",
        "                    verbose=True,\n",
        "                    cv = 3,\n",
        "                    n_jobs=-1\n",
        "                    )\n"
      ],
      "metadata": {
        "id": "x6XXLQpw7MEi"
      },
      "execution_count": 55,
      "outputs": []
    },
    {
      "cell_type": "code",
      "source": [
        "import datetime as dt\n",
        "start=dt.datetime.now()\n",
        "grid.fit(X_sm, y_sm)\n",
        "end=dt.datetime.now()\n",
        "print(\"Best params: \", grid.best_params_)\n",
        "print(\"Best score: \", grid.best_score_)\n",
        "print(f\"Time taken for fits : {end - start}\")"
      ],
      "metadata": {
        "colab": {
          "base_uri": "https://localhost:8080/"
        },
        "id": "R-DTt9YJ_F7-",
        "outputId": "48c18d56-62dd-4dbc-f6fc-d5cc03b73cc7"
      },
      "execution_count": 90,
      "outputs": [
        {
          "output_type": "stream",
          "name": "stdout",
          "text": [
            "Fitting 3 folds for each of 144 candidates, totalling 432 fits\n",
            "Best params:  {'bootstrap': True, 'criterion': 'gini', 'max_depth': 10, 'max_features': 9, 'n_estimators': 300}\n",
            "Best score:  0.8075996806602572\n",
            "Time taken for fits : 0:02:55.616732\n"
          ]
        }
      ]
    },
    {
      "cell_type": "markdown",
      "source": [
        "**Classification report and ROC-AUC curve**"
      ],
      "metadata": {
        "id": "ueGluyciHKsh"
      }
    },
    {
      "cell_type": "code",
      "source": [
        "from sklearn.metrics import classification_report,ConfusionMatrixDisplay,confusion_matrix\n",
        "y_pred = grid.predict(X_test)\n",
        "\n",
        "print(classification_report(y_test, y_pred))\n",
        "cm = confusion_matrix(y_test, y_pred)\n",
        "ConfusionMatrixDisplay(confusion_matrix=cm, display_labels=grid.classes_).plot()"
      ],
      "metadata": {
        "colab": {
          "base_uri": "https://localhost:8080/",
          "height": 623
        },
        "id": "mt1FJAlqGgvu",
        "outputId": "41ee0bcc-8adb-400c-d359-5174434c993a"
      },
      "execution_count": 68,
      "outputs": [
        {
          "output_type": "stream",
          "name": "stdout",
          "text": [
            "              precision    recall  f1-score   support\n",
            "\n",
            "           0       0.74      0.60      0.67       159\n",
            "           1       0.82      0.90      0.86       318\n",
            "\n",
            "    accuracy                           0.80       477\n",
            "   macro avg       0.78      0.75      0.76       477\n",
            "weighted avg       0.79      0.80      0.79       477\n",
            "\n"
          ]
        },
        {
          "output_type": "execute_result",
          "data": {
            "text/plain": [
              "<sklearn.metrics._plot.confusion_matrix.ConfusionMatrixDisplay at 0x7e75b2eded10>"
            ]
          },
          "metadata": {},
          "execution_count": 68
        },
        {
          "output_type": "display_data",
          "data": {
            "text/plain": [
              "<Figure size 640x480 with 2 Axes>"
            ],
            "image/png": "[encoded data removed]"
          },
          "metadata": {}
        }
      ]
    },
    {
      "cell_type": "markdown",
      "source": [
        "From above above classification report using RandomForest classifier we observed\n",
        "\n",
        "**Precision:**\n",
        "\n",
        "--For class 0 (non-churn drivers), precision is 0.74, indicating that out of all the instances classified as non-churn, 74% of them are actually non-churn.\n",
        "\n",
        "--For class 1 (churn drivers), precision is 0.82, indicating that out of all the instances classified as churn, 82% of them are actually churn.\n",
        "\n",
        "**Recall:**\n",
        "\n",
        "--For class 0 (non-churn drivers), recall is 0.60, indicating that out of all the actual non-churn instances, 60% of them are correctly classified as non-churn.\n",
        "\n",
        "--For class 1 (churn drivers), recall is 0.90, indicating that out of all the actual churn instances, 90% of them are correctly classified as churn.\n",
        "\n",
        "**F1-score:**\n",
        "\n",
        "--For class 0 (non-churn drivers), the F1-score is 0.67.\n",
        "\n",
        "--For class 1 (churn drivers), the F1-score is 0.86."
      ],
      "metadata": {
        "id": "_fwfC9GMMBEH"
      }
    },
    {
      "cell_type": "code",
      "source": [
        "from sklearn.metrics import roc_curve, auc, roc_auc_score\n",
        "# Predict probabilities\n",
        "y_probs = grid.predict_proba(X_test)[:, 1]\n",
        "\n",
        "# Compute ROC curve and AUC\n",
        "fpr, tpr, thresholds = roc_curve(y_test, y_probs)\n",
        "roc_auc = auc(fpr, tpr)\n",
        "\n",
        "# Plot ROC curve\n",
        "plt.figure(figsize=(8, 8))\n",
        "plt.plot(fpr, tpr, color='darkorange', lw=2, label=f'AUC = {roc_auc:.2f}')\n",
        "plt.plot([0, 1], [0, 1], color='navy', lw=2, linestyle='--')\n",
        "plt.xlim([0.0, 1.0])\n",
        "plt.ylim([0.0, 1.05])\n",
        "plt.xlabel('False Positive Rate (FPR)')\n",
        "plt.ylabel('True Positive Rate (TPR)')\n",
        "plt.title('Receiver Operating Characteristic (ROC) Curve')\n",
        "plt.legend(loc='lower right')\n",
        "plt.show()"
      ],
      "metadata": {
        "colab": {
          "base_uri": "https://localhost:8080/",
          "height": 718
        },
        "id": "AHxGhsoEmQJ3",
        "outputId": "21d46e59-2c9d-4e70-ae1b-d0a38e4744ed"
      },
      "execution_count": 91,
      "outputs": [
        {
          "output_type": "display_data",
          "data": {
            "text/plain": [
              "<Figure size 800x800 with 1 Axes>"
            ],
            "image/png": "[encoded data removed]"
          },
          "metadata": {}
        }
      ]
    },
    {
      "cell_type": "markdown",
      "source": [
        "\n",
        "\n",
        "**In this case:**\n",
        "\n",
        "- The AUC score of 0.81 suggests that the model has a high ability to distinguish between churn and non-churn drivers.\n",
        "- The curve is close to the upper left corner of the plot, indicating a low FPR and a high TPR.\n",
        "- This means that the model can accurately identify both churn and non-churn drivers with a low rate of misclassification."
      ],
      "metadata": {
        "id": "rMFCZth2nkV7"
      }
    },
    {
      "cell_type": "markdown",
      "source": [
        "**Feature Importance**"
      ],
      "metadata": {
        "id": "c33AkbBJRvqM"
      }
    },
    {
      "cell_type": "code",
      "source": [
        "# Feature Importance\n",
        "import matplotlib.pyplot as plt\n",
        "plt.figure(figsize=(10,3))\n",
        "clf=RandomForestClassifier(random_state=10, bootstrap=True, criterion='entropy',\n",
        "                              max_depth=10, max_features=8, n_estimators=300)\n",
        "clf.fit(X_sm,y_sm)\n",
        "importances = model.feature_importances_\n",
        "\n",
        "indices = np.argsort(importances)[::-1] # Sort feature importances in descending order\n",
        "names = [X_sm.columns[i] for i in indices] # Rearrange feature names so they match the sorted feature importances\n",
        "plt.title(\"Feature Importance\") # Create plot title\n",
        "plt.bar(range(X.shape[1]), importances[indices],color='Yellow') # Add bars\n",
        "plt.xticks(range(X.shape[1]), names, rotation=90) # Add feature names as x-axis labels\n",
        "plt.show() # Show plot"
      ],
      "metadata": {
        "colab": {
          "base_uri": "https://localhost:8080/",
          "height": 487
        },
        "id": "96IjBHxfRM0m",
        "outputId": "3430707f-b874-4fee-aaaa-1d3e54546f64"
      },
      "execution_count": 83,
      "outputs": [
        {
          "output_type": "display_data",
          "data": {
            "text/plain": [
              "<Figure size 1000x300 with 1 Axes>"
            ],
            "image/png": "[encoded data removed]"
          },
          "metadata": {}
        }
      ]
    },
    {
      "cell_type": "markdown",
      "source": [
        "--so Total Business  value,Income,Quarterly Rating are top3 important features..."
      ],
      "metadata": {
        "id": "oP6f2odNnvHs"
      }
    },
    {
      "cell_type": "markdown",
      "source": [
        "# **Gradient Bossting**"
      ],
      "metadata": {
        "id": "8sYc1UhwoZUV"
      }
    },
    {
      "cell_type": "code",
      "source": [
        "from sklearn.ensemble import GradientBoostingClassifier as GBC\n",
        "import datetime as dt\n",
        "params = {\n",
        "    \"n_estimators\": [50,100,150,200],\n",
        "    \"loss\": [\"log_loss\", \"exponential\"],\n",
        "    \"max_depth\" : [3, 4, 5, 7],\n",
        "    \"max_leaf_nodes\" : [20, 40, 80],\n",
        "    \"learning_rate\": [0.1, 0.2, 0.3]\n",
        "}\n",
        "gbc = GBC()\n",
        "clf = GridSearchCV(gbc, params, scoring = \"f1\", cv=3, n_jobs = -1, verbose = 1)\n",
        "\n",
        "start = dt.datetime.now()\n",
        "clf.fit(X_sm, y_sm)\n",
        "end = dt.datetime.now()\n",
        "print(f\"Time taken for fits : {end - start}\")"
      ],
      "metadata": {
        "colab": {
          "base_uri": "https://localhost:8080/"
        },
        "id": "9O1ubJ-jodVW",
        "outputId": "2414c194-2cad-4184-a6be-33492cb94e83"
      },
      "execution_count": 86,
      "outputs": [
        {
          "output_type": "stream",
          "name": "stdout",
          "text": [
            "Fitting 3 folds for each of 288 candidates, totalling 864 fits\n",
            "Time taken for fits : 0:06:32.934691\n"
          ]
        }
      ]
    },
    {
      "cell_type": "code",
      "source": [
        "gbc.fit(X_sm, y_sm)\n",
        "print(\"Best params: \", gbc.best_params_)\n",
        "print(\"Best score: \", gbc.best_score_)"
      ],
      "metadata": {
        "colab": {
          "base_uri": "https://localhost:8080/"
        },
        "id": "XCqbAaZVpnjA",
        "outputId": "966ba517-19c8-423b-b4c9-b721228fbd53"
      },
      "execution_count": 87,
      "outputs": [
        {
          "output_type": "stream",
          "name": "stdout",
          "text": [
            "Best params:  {'bootstrap': True, 'criterion': 'entropy', 'max_depth': 10, 'max_features': 8, 'n_estimators': 300}\n",
            "Best score:  0.8075451202187546\n"
          ]
        }
      ]
    },
    {
      "cell_type": "markdown",
      "source": [
        "**Classification Report-GBDT**"
      ],
      "metadata": {
        "id": "D_SM0pJZrhOe"
      }
    },
    {
      "cell_type": "code",
      "source": [
        "y_pred = gbc.predict(X_test)\n",
        "\n",
        "print(classification_report(y_test, y_pred))\n",
        "cm = confusion_matrix(y_test, y_pred)\n",
        "ConfusionMatrixDisplay(confusion_matrix=cm, display_labels=grid.classes_).plot()"
      ],
      "metadata": {
        "colab": {
          "base_uri": "https://localhost:8080/",
          "height": 623
        },
        "id": "AnJxz1AkrnvB",
        "outputId": "eea2b2b7-6820-4740-fd98-83a164788d6f"
      },
      "execution_count": 89,
      "outputs": [
        {
          "output_type": "stream",
          "name": "stdout",
          "text": [
            "              precision    recall  f1-score   support\n",
            "\n",
            "           0       0.74      0.62      0.68       159\n",
            "           1       0.83      0.89      0.86       318\n",
            "\n",
            "    accuracy                           0.80       477\n",
            "   macro avg       0.78      0.76      0.77       477\n",
            "weighted avg       0.80      0.80      0.80       477\n",
            "\n"
          ]
        },
        {
          "output_type": "execute_result",
          "data": {
            "text/plain": [
              "<sklearn.metrics._plot.confusion_matrix.ConfusionMatrixDisplay at 0x7e75c4ee2ef0>"
            ]
          },
          "metadata": {},
          "execution_count": 89
        },
        {
          "output_type": "display_data",
          "data": {
            "text/plain": [
              "<Figure size 640x480 with 2 Axes>"
            ],
            "image/png": "[encoded data removed]"
          },
          "metadata": {}
        }
      ]
    },
    {
      "cell_type": "markdown",
      "source": [
        "From above above classification report using GRADIENTBOOST classifier we observed\n",
        "\n",
        "**Precision:**\n",
        "\n",
        "--For the non-churn class (0), the precision is 0.74. This means that out of all instances predicted as non-churn, 74% are actually non-churn.\n",
        "\n",
        "--For the churn class (1), the precision is 0.83. This indicates that out of all instances predicted as churn, 83% are actually churn.\n",
        "\n",
        "**Recall:**\n",
        "\n",
        "--For the non-churn class (0), the recall is 0.62. This means that out of all actual non-churn instances, 62% are correctly classified as non-churn.\n",
        "\n",
        "--For the churn class (1), the recall is 0.89. This indicates that out of all actual churn instances, 89% are correctly classified as churn.\n",
        "\n",
        "**F1-Score:**\n",
        "\n",
        "--For the non-churn class (0), the F1-score is 0.68.\n",
        "\n",
        "--For the churn class (1), the F1-score is 0.86.\n",
        "\n",
        "**Accuracy:**\n",
        "\n",
        "The overall accuracy of the model is 0.80, meaning that the model correctly predicts the class (either churn or non-churn) 80% of the time."
      ],
      "metadata": {
        "id": "xQc4mrZ8t82w"
      }
    },
    {
      "cell_type": "code",
      "source": [
        "# Predict probabilities\n",
        "y_probs = gbc.predict_proba(X_test)[:, 1]\n",
        "\n",
        "# Compute ROC curve and AUC\n",
        "fpr, tpr, thresholds = roc_curve(y_test, y_probs)\n",
        "roc_auc = auc(fpr, tpr)\n",
        "\n",
        "# Plot ROC curve\n",
        "plt.figure(figsize=(8, 8))\n",
        "plt.plot(fpr, tpr, color='darkorange', lw=2, label=f'AUC = {roc_auc:.2f}')\n",
        "plt.plot([0, 1], [0, 1], color='navy', lw=2, linestyle='--')\n",
        "plt.xlim([0.0, 1.0])\n",
        "plt.ylim([0.0, 1.05])\n",
        "plt.xlabel('False Positive Rate (FPR)')\n",
        "plt.ylabel('True Positive Rate (TPR)')\n",
        "plt.title('Receiver Operating Characteristic (ROC) Curve')\n",
        "plt.legend(loc='lower right')\n",
        "plt.show()"
      ],
      "metadata": {
        "colab": {
          "base_uri": "https://localhost:8080/",
          "height": 718
        },
        "id": "mBClnBd8r5tv",
        "outputId": "257a26db-5fef-4f91-9a6c-8fcef38c8d77"
      },
      "execution_count": 92,
      "outputs": [
        {
          "output_type": "display_data",
          "data": {
            "text/plain": [
              "<Figure size 800x800 with 1 Axes>"
            ],
            "image/png": "[encoded data removed]"
          },
          "metadata": {}
        }
      ]
    },
    {
      "cell_type": "markdown",
      "source": [
        "# **XGB Boost**"
      ],
      "metadata": {
        "id": "OfDrMq_fvFLR"
      }
    },
    {
      "cell_type": "code",
      "source": [
        "from xgboost import XGBClassifier\n",
        "params = {\n",
        "        \"n_estimators\": [50,100,150,200],\n",
        "        \"max_depth\" : [3, 4, 5, 7],\n",
        "        \"learning_rate\": [0.1, 0.2, 0.3],\n",
        "        'subsample': [0.6, 0.8, 1.0],\n",
        "        'colsample_bytree': [0.6, 0.8, 1.0],\n",
        "        }\n",
        "xgb = XGBClassifier(objective='multi:softmax', num_class=20, silent=True)\n",
        "grid_search = GridSearchCV(\n",
        "    xgb,\n",
        "    params,\n",
        "    scoring='f1',\n",
        "    n_jobs=-1,\n",
        "    cv=3,\n",
        "    verbose=2\n",
        ")"
      ],
      "metadata": {
        "id": "TJduR-LrvIqV"
      },
      "execution_count": 99,
      "outputs": []
    },
    {
      "cell_type": "code",
      "source": [
        "#fitting the model and checking runtime\n",
        "start = dt.datetime.now()\n",
        "grid_search.fit(X_sm, y_sm)\n",
        "end = dt.datetime.now()\n",
        "print(f\"Time taken for fits : {end - start}\")"
      ],
      "metadata": {
        "colab": {
          "base_uri": "https://localhost:8080/"
        },
        "id": "J3YOYm8OxYNQ",
        "outputId": "eb0ba001-1e94-4924-a275-34c154f04808"
      },
      "execution_count": 100,
      "outputs": [
        {
          "output_type": "stream",
          "name": "stdout",
          "text": [
            "Fitting 3 folds for each of 432 candidates, totalling 1296 fits\n"
          ]
        },
        {
          "output_type": "stream",
          "name": "stderr",
          "text": [
            "/usr/local/lib/python3.10/dist-packages/xgboost/core.py:160: UserWarning: [10:27:16] WARNING: /workspace/src/learner.cc:742: \n",
            "Parameters: { \"silent\" } are not used.\n",
            "\n",
            "  warnings.warn(smsg, UserWarning)\n"
          ]
        },
        {
          "output_type": "stream",
          "name": "stdout",
          "text": [
            "Time taken for fits : 0:08:32.762241\n"
          ]
        }
      ]
    },
    {
      "cell_type": "code",
      "source": [
        "y_pred = grid_search.predict(X_test)\n",
        "\n",
        "print(classification_report(y_test, y_pred))\n",
        "cm = confusion_matrix(y_test, y_pred)\n",
        "ConfusionMatrixDisplay(confusion_matrix=cm, display_labels=grid.classes_).plot()"
      ],
      "metadata": {
        "colab": {
          "base_uri": "https://localhost:8080/",
          "height": 623
        },
        "id": "Di8UJMC2xkAE",
        "outputId": "2f0adc57-3636-48c6-f7f9-e20e5fc48fb4"
      },
      "execution_count": 101,
      "outputs": [
        {
          "output_type": "stream",
          "name": "stdout",
          "text": [
            "              precision    recall  f1-score   support\n",
            "\n",
            "           0       0.70      0.58      0.63       159\n",
            "           1       0.81      0.88      0.84       318\n",
            "\n",
            "    accuracy                           0.78       477\n",
            "   macro avg       0.75      0.73      0.74       477\n",
            "weighted avg       0.77      0.78      0.77       477\n",
            "\n"
          ]
        },
        {
          "output_type": "execute_result",
          "data": {
            "text/plain": [
              "<sklearn.metrics._plot.confusion_matrix.ConfusionMatrixDisplay at 0x7e75c5224160>"
            ]
          },
          "metadata": {},
          "execution_count": 101
        },
        {
          "output_type": "display_data",
          "data": {
            "text/plain": [
              "<Figure size 640x480 with 2 Axes>"
            ],
            "image/png": "[encoded data removed]"
          },
          "metadata": {}
        }
      ]
    },
    {
      "cell_type": "markdown",
      "source": [
        "From above above classification report using XGBOOST classifier we observed\n",
        "\n",
        "**Precision:**\n",
        "\n",
        "--For the non-churn class (0), the precision is 0.70. This means that out of all instances predicted as non-churn, 70% are actually non-churn.\n",
        "\n",
        "--For the churn class (1), the precision is 0.81. This indicates that out of all instances predicted as churn, 81% are actually churn.\n",
        "\n",
        "**Recall:**\n",
        "\n",
        "--For the non-churn class (0), the recall is 0.58. This means that out of all actual non-churn instances, 58% are correctly classified as non-churn.\n",
        "\n",
        "--For the churn class (1), the recall is 0.88. This indicates that out of all actual churn instances, 88% are correctly classified as churn.\n",
        "\n",
        "**F1-Score:**\n",
        "\n",
        "--For the non-churn class (0), the F1-score is 0.63.\n",
        "\n",
        "--For the churn class (1), the F1-score is 0.84.\n",
        "\n",
        "**Accuracy:**\n",
        "\n",
        "The overall accuracy of the model is 0.78, meaning that the model correctly predicts the class (either churn or non-churn) 78% of the time."
      ],
      "metadata": {
        "id": "jtTmcXBE1qs0"
      }
    },
    {
      "cell_type": "code",
      "source": [
        "# Predict probabilities\n",
        "y_prob = grid_search.predict_proba(X_test)[:, 1]\n",
        "\n",
        "# Compute ROC curve and AUC\n",
        "fpr, tpr, thresholds = roc_curve(y_test, y_prob)\n",
        "roc_auc = auc(fpr, tpr)\n",
        "\n",
        "# Plot ROC curve\n",
        "plt.figure(figsize=(8, 8))\n",
        "plt.plot(fpr, tpr, color='darkorange', lw=2, label=f'AUC = {roc_auc:.2f}')\n",
        "plt.plot([0, 1], [0, 1], color='navy', lw=2, linestyle='--')\n",
        "plt.xlim([0.0, 1.0])\n",
        "plt.ylim([0.0, 1.05])\n",
        "plt.xlabel('False Positive Rate (FPR)')\n",
        "plt.ylabel('True Positive Rate (TPR)')\n",
        "plt.title('Receiver Operating Characteristic (ROC) Curve')\n",
        "plt.legend(loc='lower right')\n",
        "plt.show()"
      ],
      "metadata": {
        "colab": {
          "base_uri": "https://localhost:8080/",
          "height": 718
        },
        "id": "wKMXQSR9xu9c",
        "outputId": "dcd35595-55cd-4b85-ecbd-026df1db7a76"
      },
      "execution_count": 104,
      "outputs": [
        {
          "output_type": "display_data",
          "data": {
            "text/plain": [
              "<Figure size 800x800 with 1 Axes>"
            ],
            "image/png": "[encoded data removed]"
          },
          "metadata": {}
        }
      ]
    },
    {
      "cell_type": "markdown",
      "source": [],
      "metadata": {
        "id": "l89EG71M3IqN"
      }
    },
    {
      "cell_type": "markdown",
      "source": [
        "# **INSIGHTS:**\n",
        "\n",
        "**Insights from Plots:**\n",
        "\n",
        "**Gender:**Males have higher churn rates.\n",
        "\n",
        "**Education Level:**No significant difference in churn rates among education levels.\n",
        "\n",
        "**Joining Designations:**Designations 1, 2, and 3 show higher churn rates.\n",
        "\n",
        "**Grades:**Grades 1, 2, and 3 have higher churn rates; grades 4 and 5 have lower churn.\n",
        "\n",
        "**Quarterly Rating Increased:**Increased ratings (1) associated with lower churn.\n",
        "\n",
        "**Income Increased:**Employees with increased income show lower churn rates.\n",
        "\n",
        "**Age:**Higher churn among younger drivers (20-30), lower among older drivers (50+).\n",
        "\n",
        "**Income:**Lower income linked to higher churn.\n",
        "\n",
        "**Total Business Value:**Lower total business value associated with higher churn.\n",
        "\n",
        "**Correlations:**Strong correlation between \"Grade\" and \"Income.\"\n",
        "Correlation between \"Joining Designation\" and \"Grade.\"\n",
        "\n",
        "**Model Performance:**\n",
        "\n",
        "**Random Forest:**\n",
        "\n",
        "Precision: 0.74 (non-churn), 0.82 (churn)\n",
        "\n",
        "Recall: 0.60 (non-churn), 0.90 (churn)\n",
        "\n",
        "F1-Score: 0.67 (non-churn), 0.86 (churn)\n",
        "\n",
        "Accuracy: 0.80\n",
        "\n",
        "**Gradient Boosting:**\n",
        "\n",
        "Precision: 0.74 (non-churn), 0.83 (churn)\n",
        "\n",
        "Recall: 0.62 (non-churn), 0.89 (churn)\n",
        "\n",
        "F1-Score: 0.68 (non-churn), 0.86 (churn)\n",
        "\n",
        "Accuracy: 0.80\n",
        "\n",
        "**XGBoost:**\n",
        "\n",
        "Precision: 0.70 (non-churn), 0.81 (churn)\n",
        "\n",
        "Recall: 0.58 (non-churn), 0.88 (churn)\n",
        "\n",
        "F1-Score: 0.63 (non-churn), 0.84 (churn)\n",
        "\n",
        "Accuracy: 0.78"
      ],
      "metadata": {
        "id": "dzgiMhfE3Igu"
      }
    },
    {
      "cell_type": "markdown",
      "source": [
        "**RECOMMENDATIONS:**\n",
        "\n",
        "**Address Male Churn:**Investigate and mitigate factors causing higher churn among males.\n",
        "\n",
        "**Focus on Designations 1-3:**Address challenges for employees in Joining Designations 1, 2, and 3.\n",
        "\n",
        "**Recognition for Performance:**Implement rewards for improved quarterly ratings.\n",
        "\n",
        "**Financial Well-being:**Encourage salary growth and address concerns about unchanged incomes.\n",
        "\n",
        "**Engage Young Workforce:**Develop strategies for retaining and engaging younger employees.\n",
        "\n",
        "**Correlated Factors:**Align salary adjustments with career growth.\n",
        "Address concerns related to correlated factors like \"Joining Designation\" and \"Grade.\"\n",
        "\n",
        "**Regular Monitoring:**Continuously monitor indicators and adapt strategies accordingly.\n",
        "\n",
        "**Model Optimization:**\n",
        "Choose the model (Random Forest, Gradient Boosting, XGBoost) aligning with goals.\n",
        "Regularly assess and refine the model for optimal performance."
      ],
      "metadata": {
        "id": "NlP0LZ8F6Eii"
      }
    },
    {
      "cell_type": "markdown",
      "source": [],
      "metadata": {
        "id": "WJ0nwLU18lsG"
      }
    }
  ]
}